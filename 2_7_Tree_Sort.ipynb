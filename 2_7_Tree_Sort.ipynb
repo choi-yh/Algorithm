{
  "nbformat": 4,
  "nbformat_minor": 0,
  "metadata": {
    "colab": {
      "name": "2-7 Tree Sort.ipynb",
      "version": "0.3.2",
      "provenance": [],
      "collapsed_sections": [],
      "include_colab_link": true
    },
    "kernelspec": {
      "name": "python3",
      "display_name": "Python 3"
    }
  },
  "cells": [
    {
      "cell_type": "markdown",
      "metadata": {
        "id": "view-in-github",
        "colab_type": "text"
      },
      "source": [
        "<a href=\"https://colab.research.google.com/github/choi-yh/Algorithm/blob/master/2_7_Tree_Sort.ipynb\" target=\"_parent\"><img src=\"https://colab.research.google.com/assets/colab-badge.svg\" alt=\"Open In Colab\"/></a>"
      ]
    },
    {
      "cell_type": "markdown",
      "metadata": {
        "id": "swcDveRuDLaa",
        "colab_type": "text"
      },
      "source": [
        "* 이진 탐색 트리를 이용하여 정렬하는 방법\n",
        "\n",
        "* 이진 탐색 트리가 완성되면 **중위 순회(좌측 방문, 출력, 우측 방문) 하면서 모든 노드를 방문하여 출력한다.**\n",
        "\n",
        "* 이진 탐색 트리의 루트가 중앙값인 경우 대칭이지만 그렇지 않은 경우 비대칭의 형태를 띈다.  \n",
        "    극단적으로 최솟값 or 최댓값을 가질 경우, 한쪽으로 편향된 트리 모양을 가진다.  \n",
        "    깊이는 가장 낮을 때, $log_{2} n$, 가장 높을 때 $n$  \n",
        "\n",
        "* 자료 정렬에 소요되는 시간복잡도는 이상적일 때, $O(nlog_{2} n$ 최악일 때, $O(n^2)$"
      ]
    },
    {
      "cell_type": "code",
      "metadata": {
        "id": "pjflLmOlD8hE",
        "colab_type": "code",
        "colab": {
          "base_uri": "https://localhost:8080/",
          "height": 53
        },
        "outputId": "3cf185b8-1d8f-444b-8924-6b5f00963db3"
      },
      "source": [
        "class Node:\n",
        "    def __init__(self, item, left=None, right=None):\n",
        "        self.item = item\n",
        "        self.left = left\n",
        "        self.right = right\n",
        "        \n",
        "class BSTree:\n",
        "    def __init__(self):\n",
        "        self.root = None\n",
        "    \n",
        "    def insert(self, item):\n",
        "        self.root = self._insert(self.root, item)\n",
        "    \n",
        "    def _insert(self, node, item):\n",
        "        if node == None:\n",
        "            node = Node(item)\n",
        "        else:\n",
        "            if node.item > item:\n",
        "                node.left = self._insert(node.left, item)\n",
        "            else:\n",
        "                node.right = self._insert(node.right, item)\n",
        "        return node\n",
        "    \n",
        "    def find(self, item):\n",
        "        return self._find(self.root, item)\n",
        "    \n",
        "    # 재귀를 쓸때는 return 문을 꼭 생각!\n",
        "    def _find(self, node, item):\n",
        "        if node is None:\n",
        "            return False\n",
        "        else:\n",
        "            if node.item == item:\n",
        "                return True\n",
        "            elif node.item > item:\n",
        "                return self._find(node.left, item) \n",
        "            elif node.item < item:\n",
        "                return self._find(node.right, item)\n",
        "    \n",
        "    def inOrder(self):\n",
        "        return self._inOrder(self.root)\n",
        "    \n",
        "    def _inOrder(self, node, sorted=[]):\n",
        "        if node != None:\n",
        "            self._inOrder(node.left, sorted)\n",
        "            sorted.append(node.item)\n",
        "            self._inOrder(node.right, sorted)\n",
        "        return sorted\n",
        "        \n",
        "        \n",
        "def treeSort(x):\n",
        "    t = BSTree()\n",
        "    for item in x:\n",
        "        t.insert(item)    \n",
        "    return t.inOrder()\n",
        "\n",
        "x = [21, 28, 14, 32, 25, 18, 11, 30, 19, 15]\n",
        "print(treeSort(x))\n",
        "\n",
        "t = BSTree()\n",
        "for item in x:\n",
        "    t.insert(item)\n",
        "    \n",
        "print(t.find(20))"
      ],
      "execution_count": 1,
      "outputs": [
        {
          "output_type": "stream",
          "text": [
            "[11, 14, 15, 18, 19, 21, 25, 28, 30, 32]\n",
            "False\n"
          ],
          "name": "stdout"
        }
      ]
    },
    {
      "cell_type": "code",
      "metadata": {
        "id": "7dt73JbUD_xi",
        "colab_type": "code",
        "colab": {}
      },
      "source": [
        ""
      ],
      "execution_count": 0,
      "outputs": []
    }
  ]
}