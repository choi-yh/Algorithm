{
  "nbformat": 4,
  "nbformat_minor": 0,
  "metadata": {
    "colab": {
      "name": "8-5 HW8.ipynb",
      "version": "0.3.2",
      "provenance": [],
      "collapsed_sections": [],
      "include_colab_link": true
    },
    "kernelspec": {
      "name": "python3",
      "display_name": "Python 3"
    }
  },
  "cells": [
    {
      "cell_type": "markdown",
      "metadata": {
        "id": "view-in-github",
        "colab_type": "text"
      },
      "source": [
        "<a href=\"https://colab.research.google.com/github/choi-yh/Algorithm/blob/master/8_5_HW8.ipynb\" target=\"_parent\"><img src=\"https://colab.research.google.com/assets/colab-badge.svg\" alt=\"Open In Colab\"/></a>"
      ]
    },
    {
      "cell_type": "markdown",
      "metadata": {
        "id": "1kngoxn3Oxdy",
        "colab_type": "text"
      },
      "source": [
        "### Kruskal II 알고리즘으로 아래 네트워크의 최소비용신장트리를 구하시오."
      ]
    },
    {
      "cell_type": "code",
      "metadata": {
        "id": "7Yr-n73sO5lh",
        "colab_type": "code",
        "colab": {
          "base_uri": "https://localhost:8080/",
          "height": 143
        },
        "outputId": "49016fb3-07d3-441b-8ef0-9325df2fc4cc"
      },
      "source": [
        "# 그래프를 정의한다.\n",
        "\n",
        "g = {}\n",
        "g['A'] = {}\n",
        "g['B'] = {}\n",
        "g['C'] = {}\n",
        "g['D'] = {}\n",
        "g['E'] = {}\n",
        "g['F'] = {}\n",
        "g['G'] = {}\n",
        "g['A']['B'] = 3\n",
        "g['A']['C'] = 17\n",
        "g['A']['D'] = 6\n",
        "g['B']['A'] = 3\n",
        "g['B']['D'] = 5\n",
        "g['B']['G'] = 12\n",
        "g['C']['A'] = 17\n",
        "g['C']['E'] = 10\n",
        "g['C']['F'] = 8\n",
        "g['D']['A'] = 6\n",
        "g['D']['B'] = 5\n",
        "g['D']['E'] = 9\n",
        "g['E']['C'] = 10\n",
        "g['E']['D'] = 9\n",
        "g['E']['F'] = 4\n",
        "g['E']['G'] = 2\n",
        "g['F']['C'] = 8\n",
        "g['F']['E'] = 4\n",
        "g['F']['G'] = 14\n",
        "g['G']['B'] = 12\n",
        "g['G']['E'] = 2\n",
        "g['G']['F'] = 14\n",
        "\n",
        "g"
      ],
      "execution_count": 1,
      "outputs": [
        {
          "output_type": "execute_result",
          "data": {
            "text/plain": [
              "{'A': {'B': 3, 'C': 17, 'D': 6},\n",
              " 'B': {'A': 3, 'D': 5, 'G': 12},\n",
              " 'C': {'A': 17, 'E': 10, 'F': 8},\n",
              " 'D': {'A': 6, 'B': 5, 'E': 9},\n",
              " 'E': {'C': 10, 'D': 9, 'F': 4, 'G': 2},\n",
              " 'F': {'C': 8, 'E': 4, 'G': 14},\n",
              " 'G': {'B': 12, 'E': 2, 'F': 14}}"
            ]
          },
          "metadata": {
            "tags": []
          },
          "execution_count": 1
        }
      ]
    },
    {
      "cell_type": "code",
      "metadata": {
        "id": "kxeqF3F4O6dB",
        "colab_type": "code",
        "colab": {}
      },
      "source": [
        "# 오름차순 정리용 minHeap 사용\n",
        "\n",
        "class minHeap:\n",
        "    def __init__(self):\n",
        "        self.x = [None]\n",
        "        \n",
        "    def _exchange(self, i, j):\n",
        "        if self.x[i] > self.x[j]:\n",
        "            self.x[i], self.x[j] = self.x[j], self.x[i]\n",
        "        \n",
        "    def push(self, item):\n",
        "        self.x.append(item)\n",
        "        cidx = len(self.x) - 1\n",
        "        pidx = cidx // 2\n",
        "        while pidx >= 1:\n",
        "            self._exchange(pidx, cidx)\n",
        "            cidx = pidx\n",
        "            pidx = cidx // 2\n",
        "            \n",
        "    def pop(self):\n",
        "        _tmp = self.x[1]\n",
        "        self.x[1], self.x[-1] = self.x[-1], self.x[1]\n",
        "        self.x = self.x[:-1]\n",
        "        self.heapify()\n",
        "        return _tmp\n",
        "    \n",
        "            \n",
        "    def _child(self, pidx):\n",
        "        n = len(self.x)\n",
        "        lcidx = pidx * 2\n",
        "        rcidx = pidx * 2 + 1\n",
        "        if rcidx < n:\n",
        "            return lcidx, rcidx\n",
        "        elif lcidx < n and rcidx >= n:\n",
        "            return lcidx, None\n",
        "        else:\n",
        "            return None, None\n",
        "            \n",
        "    def heapify(self):\n",
        "        for pidx in range(1, len(self.x)+1):\n",
        "            lcidx, rcidx = self._child(pidx)\n",
        "            if lcidx != None and rcidx != None:\n",
        "                if self.x[lcidx] > self.x[rcidx]:\n",
        "                    self._exchange(pidx, rcidx)\n",
        "                else:\n",
        "                    self._exchange(pidx, lcidx)\n",
        "            elif lcidx != None and rcidx == None:\n",
        "                self._exchange(pidx, lcidx)\n",
        "        return self.x\n",
        "    \n",
        "        \n",
        "    def print(self):\n",
        "        print(self.x)\n"
      ],
      "execution_count": 0,
      "outputs": []
    },
    {
      "cell_type": "code",
      "metadata": {
        "id": "SQWOHagoO8jQ",
        "colab_type": "code",
        "colab": {
          "base_uri": "https://localhost:8080/",
          "height": 55
        },
        "outputId": "25be3255-a3b1-4c53-8f4e-83e3f8c84f2b"
      },
      "source": [
        "import copy\n",
        "        \n",
        "class MST:\n",
        "    def __init__(self, graph):\n",
        "        def _edges(graph):\n",
        "            # 그래프에서 노드를 꺼내면서 [거리, 노드1, 노드2] 형태로 만든다.\n",
        "            edges = []\n",
        "            for key, value in graph.items():\n",
        "                for item in list(value.keys()):\n",
        "                    edges.append([value[item], key, item])\n",
        "            return edges\n",
        "        \n",
        "        def _addEdge(graph):\n",
        "        # 노드를 cost를 기준으로 minHeap에서 pop하여 오름차순 정렬한다.\n",
        "            x = minHeap()\n",
        "            for i in range(len(self.edges)): # edge들을 minHeap에 넣는다.\n",
        "                x.push(self.edges[i])\n",
        "\n",
        "            add_list = []\n",
        "            for j in range(1, len(x.x)):\n",
        "                tmp = x.pop()\n",
        "                if [tmp[0], tmp[2], tmp[1]] not in add_list:\n",
        "                    add_list.append(tmp)\n",
        "            return add_list\n",
        "        \n",
        "        self.graph = graph\n",
        "        self.edges = _edges(graph)\n",
        "        self.addEdge = _addEdge(graph)\n",
        "        \n",
        "    # kruskal2를 이용해서 엣지를 추가해갈때 사이클을 그때그때 확인해줘야한다. => 사이클 확인하는 메서드 필요.\n",
        "    # dfs 이용해서 사이클 찾기\n",
        "    # 사이클의 구현은 Uniion Find Algorithm을 이용하여 구현할 수 있다.\n",
        "    def _cycle(self, graph, start):\n",
        "        stack = []\n",
        "        visit = set()\n",
        "        \n",
        "        stack.append(start)\n",
        "        while len(stack) > 0:\n",
        "            curNode = stack.pop(-1)\n",
        "            # dfs 알고리즘\n",
        "            # Step 2: pop한 노드가 가본 곳이 아니면 노드의 이웃노드 중 방문하지 않은 노드집합을 스택에 푸시하고 팝한 노드를 방문 처리한다.\n",
        "            # Step 3: pop한 노드가 이미 가본 곳이면 방문처리할 필요가 없으나 싸이클이 존재하는 것이므로 싸이클이 존재함을 알려준다.\n",
        "            if curNode not in visit:\n",
        "                non_visit = set(graph[curNode].keys())\n",
        "                for item in non_visit-visit:\n",
        "                    stack.append(item)\n",
        "                visit.add(curNode)\n",
        "            else:\n",
        "                return True\n",
        "        return False\n",
        "        \n",
        "    def kruskal2(self):\n",
        "        mst = {}\n",
        "        for edge in list(self.graph.keys()):\n",
        "            mst[edge] = {}\n",
        "        \n",
        "        n_edge = 0\n",
        "        while n_edge != len(self.graph)-1:\n",
        "            item = self.addEdge.pop(0)\n",
        "            tmp = copy.deepcopy(mst) # 사이클이 생겼을 경우, 추가한 간선을 취소\n",
        "            \n",
        "            mst[item[1]][item[2]] = item[0]\n",
        "            mst[item[2]][item[1]] = item[0]\n",
        "            if self._cycle(mst, item[1]) == True:\n",
        "                mst = tmp\n",
        "            else:\n",
        "                n_edge += 1\n",
        "        return mst\n",
        "        \n",
        "\n",
        "a = MST(g)\n",
        "print(a.kruskal2())"
      ],
      "execution_count": 3,
      "outputs": [
        {
          "output_type": "stream",
          "text": [
            "{'A': {'B': 3}, 'B': {'A': 3, 'D': 5}, 'C': {'F': 8}, 'D': {'B': 5, 'E': 9}, 'E': {'G': 2, 'F': 4, 'D': 9}, 'F': {'E': 4, 'C': 8}, 'G': {'E': 2}}\n"
          ],
          "name": "stdout"
        }
      ]
    },
    {
      "cell_type": "code",
      "metadata": {
        "id": "g-52jzDnO-nw",
        "colab_type": "code",
        "colab": {}
      },
      "source": [
        ""
      ],
      "execution_count": 0,
      "outputs": []
    }
  ]
}