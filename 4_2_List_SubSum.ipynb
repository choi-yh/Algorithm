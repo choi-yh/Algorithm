{
  "nbformat": 4,
  "nbformat_minor": 0,
  "metadata": {
    "colab": {
      "name": "4-2 List SubSum.ipynb",
      "version": "0.3.2",
      "provenance": [],
      "collapsed_sections": [],
      "include_colab_link": true
    },
    "kernelspec": {
      "name": "python3",
      "display_name": "Python 3"
    }
  },
  "cells": [
    {
      "cell_type": "markdown",
      "metadata": {
        "id": "view-in-github",
        "colab_type": "text"
      },
      "source": [
        "<a href=\"https://colab.research.google.com/github/choi-yh/Algorithm/blob/master/4_2_List_SubSum.ipynb\" target=\"_parent\"><img src=\"https://colab.research.google.com/assets/colab-badge.svg\" alt=\"Open In Colab\"/></a>"
      ]
    },
    {
      "cell_type": "markdown",
      "metadata": {
        "id": "4TNfC6R_Tmts",
        "colab_type": "text"
      },
      "source": [
        "* 리스트에 숫자가 담겨 있다.\n",
        "\n",
        "* 우리는 이 리스트의 부분 합을 구했을 때, 그 합이 최대가 되는 조건을 알고 싶다.\n",
        "\n",
        "* x = [-7, 4, -3, 6, 3, -8, 3, 4] 에서 부분합의 최대값은 [4, -3, 6, 3 ] = 10 이다."
      ]
    },
    {
      "cell_type": "markdown",
      "metadata": {
        "id": "zMBvdcrzUFEz",
        "colab_type": "text"
      },
      "source": [
        "* get1 (무식한 방법)\n",
        "    1.   시작위치(StartIdx)를 0 ~ len(x) - 1 까지 변화 시킨다.  \n",
        "    2.   StartIdx에서 0 ~ (n - StartIdx) 까지 변화시키면서 (pivot에서 하나, 둘, ...) 부분합을 구한다.  \n",
        "    3.   부분합의 최대값을 구하여 리턴한다.\n",
        "    \n",
        "시간복잡도는 $O(n^3)$ 이다. (루프가 3번)"
      ]
    },
    {
      "cell_type": "markdown",
      "metadata": {
        "id": "MvjfeYtuUplT",
        "colab_type": "text"
      },
      "source": [
        "* get2 (get1 에서 개선)\n",
        "    *   0 ~ n 번째까지 시작 위치를 바꾸면서 가능한 모든 부분합을 계산하면서 최대 조건을 찾는다.\n",
        "    *   속도 개선 포인트 : 부분합을 계산할 때, 이전에 계산된 합을 이용한다.\n",
        "    * 시간복잡도는 $O(n^2)$\n",
        "\n",
        "\n",
        "\n"
      ]
    },
    {
      "cell_type": "markdown",
      "metadata": {
        "id": "-X5Z3_vUUpKz",
        "colab_type": "text"
      },
      "source": [
        "* Divide and Conquer 방법\n",
        "    - pivot을 기준으로 MaxSum이 left에 있는지 right에 있는지 걸쳐있는지 확인 (pivot에서 leftSum 최대값, rightSum 최대값 계산)\n",
        "    \n",
        "    1.   시작과 끝 인덱스를 주면 그 구간에서 최대 부분합을 주는 함수 필요 (일반화 시키는 느낌)\n",
        "    2.   divide를 할 예정이니 원소가 하나 남으면 리턴\n",
        "    3.   mid(pivot)를 기준으로 왼쪽의 최대 부분합, 우측 최대 부분합을 재귀를 사용하여 구한다.\n",
        "    4.   pivot을 포함하여 걸쳐있을 때의 최대 부분합을 구한다.\n",
        "    5.   return max(left, right, left part + right part)  \n",
        "\n"
      ]
    },
    {
      "cell_type": "code",
      "metadata": {
        "id": "nbMPtbW9TyFL",
        "colab_type": "code",
        "colab": {
          "base_uri": "https://localhost:8080/",
          "height": 234
        },
        "outputId": "271c44a8-b063-4d96-8b2d-50ff25ddb3dc"
      },
      "source": [
        "import sys\n",
        "import time\n",
        "\n",
        "class MaxSubSum:\n",
        "    def __init__(self, x):\n",
        "        self.x = x\n",
        "        self.n = len(x)\n",
        "        \n",
        "    def get1(self):\n",
        "        maxSubSum = -sys.maxsize -1\n",
        "        for startIdx in range(self.n):\n",
        "            for i in range(startIdx, self.n):\n",
        "                summ = sum(self.x[startIdx:i+1])\n",
        "                if summ > maxSubSum:\n",
        "                    maxSubSum = summ\n",
        "                    si = startIdx\n",
        "                    li = i\n",
        "        return maxSubSum, self.x[si:li+1]\n",
        "    \n",
        "    def get2(self):\n",
        "        maxSubSum = -sys.maxsize -1\n",
        "        for startIdx in range(self.n):\n",
        "            summ = 0\n",
        "            for j in range(startIdx, self.n):\n",
        "                summ += self.x[j]\n",
        "                if summ > maxSubSum:\n",
        "                    maxSubSum = summ\n",
        "                    si = startIdx\n",
        "                    li = j\n",
        "        return maxSubSum, self.x[si:li+1]\n",
        "    \n",
        "    def divide_conquer(self):\n",
        "        MIN = -sys.maxsize -1\n",
        "        \n",
        "        def find(lo, hi):\n",
        "            global low_index, hi_index\n",
        "            \n",
        "            if lo == hi:\n",
        "                return self.x[lo]\n",
        "            \n",
        "            mid = (lo + hi) // 2\n",
        "            \n",
        "            left = find(lo, mid)\n",
        "            right = find(mid+1, hi)\n",
        "            \n",
        "            _ltmp = 0\n",
        "            left_part = MIN\n",
        "            for i in range(mid, lo-1, -1):\n",
        "                _ltmp += self.x[i]\n",
        "                if _ltmp > left_part:\n",
        "                    left_part = _ltmp\n",
        "                    low_index = i\n",
        "            \n",
        "            _rtmp = 0\n",
        "            right_part = MIN\n",
        "            for j in range(mid+1, hi+1):\n",
        "                _rtmp += self.x[j]\n",
        "                if _rtmp > right_part:\n",
        "                    right_part = _rtmp\n",
        "                    hi_index = j\n",
        "                    \n",
        "            print(self.x[lo:hi+1], \":\", left, right, left_part+right_part)\n",
        "            return max(left, right, left_part+right_part)\n",
        "        \n",
        "        return find(0, self.n-1), self.x[low_index:hi_index+1]\n",
        "    \n",
        "        \n",
        "x = [-7, 4, -3, 6, 3, -8, 3, 4]\n",
        "s1 = time.time()\n",
        "a = MaxSubSum(x)\n",
        "e1 = time.time()\n",
        "print(a.get1(), e1-s1)\n",
        "print(' ')\n",
        "\n",
        "\n",
        "s2 = time.time()\n",
        "a = MaxSubSum(x)\n",
        "e2 = time.time()\n",
        "print(a.get2(), e2-s2)\n",
        "print(' ')\n",
        "\n",
        "s3 = time.time()\n",
        "a = MaxSubSum(x)\n",
        "e3 = time.time()\n",
        "print(a.divide_conquer(), e3-s3)"
      ],
      "execution_count": 3,
      "outputs": [
        {
          "output_type": "stream",
          "text": [
            "(10, [4, -3, 6, 3]) 3.123283386230469e-05\n",
            " \n",
            "(10, [4, -3, 6, 3]) 3.2901763916015625e-05\n",
            " \n",
            "[-7, 4] : -7 4 -3\n",
            "[-3, 6] : -3 6 3\n",
            "[-7, 4, -3, 6] : 4 6 7\n",
            "[3, -8] : 3 -8 -5\n",
            "[3, 4] : 3 4 7\n",
            "[3, -8, 3, 4] : 3 7 2\n",
            "[-7, 4, -3, 6, 3, -8, 3, 4] : 7 7 10\n",
            "(10, [4, -3, 6, 3]) 4.482269287109375e-05\n"
          ],
          "name": "stdout"
        }
      ]
    },
    {
      "cell_type": "code",
      "metadata": {
        "id": "4l-gWPRNT_f-",
        "colab_type": "code",
        "colab": {}
      },
      "source": [
        ""
      ],
      "execution_count": 0,
      "outputs": []
    }
  ]
}