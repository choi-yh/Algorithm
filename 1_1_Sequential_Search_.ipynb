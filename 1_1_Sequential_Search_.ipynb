{
  "nbformat": 4,
  "nbformat_minor": 0,
  "metadata": {
    "colab": {
      "name": "1-1 Sequential Search .ipynb",
      "version": "0.3.2",
      "provenance": [],
      "collapsed_sections": [],
      "include_colab_link": true
    },
    "kernelspec": {
      "name": "python3",
      "display_name": "Python 3"
    }
  },
  "cells": [
    {
      "cell_type": "markdown",
      "metadata": {
        "id": "view-in-github",
        "colab_type": "text"
      },
      "source": [
        "<a href=\"https://colab.research.google.com/github/choi-yh/Algorithm/blob/master/1_1_Sequential_Search_.ipynb\" target=\"_parent\"><img src=\"https://colab.research.google.com/assets/colab-badge.svg\" alt=\"Open In Colab\"/></a>"
      ]
    },
    {
      "cell_type": "markdown",
      "metadata": {
        "id": "r2sVkofQc71U",
        "colab_type": "text"
      },
      "source": [
        "* 순차 탐색 : 처음 위치부터 순차적으로 탐색하여 원하는 자료를 찾는다.  \n",
        "\n",
        "* 순차 탐색의 문제는 *찾는 숫자의 위치* 에 따라 탐색 속도의 차이가 많이 난다는 점이다.  \n",
        "\n",
        "* 탐색 속도는 O(n)이다."
      ]
    },
    {
      "cell_type": "code",
      "metadata": {
        "id": "u7JZFCX8dwE5",
        "colab_type": "code",
        "outputId": "343ebbe6-4e32-4222-b5fd-fe88fd970f67",
        "colab": {
          "base_uri": "https://localhost:8080/",
          "height": 53
        }
      },
      "source": [
        "x = int(input(\"0 ~ 100 사이의 정수를 입력 하세요: \"))\n",
        "cnt = 0\n",
        "for i in range(101):\n",
        "    cnt += 1\n",
        "    if i == x:\n",
        "        print(\"%d를 %d번 만에 찾았습니다.\" % (x, cnt))"
      ],
      "execution_count": 0,
      "outputs": [
        {
          "output_type": "stream",
          "text": [
            "100 이하의 정수를 입력 하세요: 40\n",
            "40를 41번 만에 찾았습니다.\n"
          ],
          "name": "stdout"
        }
      ]
    },
    {
      "cell_type": "code",
      "metadata": {
        "id": "3kMnQQBNea0e",
        "colab_type": "code",
        "colab": {}
      },
      "source": [
        ""
      ],
      "execution_count": 0,
      "outputs": []
    }
  ]
}