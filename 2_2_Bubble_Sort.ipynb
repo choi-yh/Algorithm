{
  "nbformat": 4,
  "nbformat_minor": 0,
  "metadata": {
    "colab": {
      "name": "2-2 Bubble Sort.ipynb",
      "version": "0.3.2",
      "provenance": [],
      "collapsed_sections": [],
      "include_colab_link": true
    },
    "kernelspec": {
      "name": "python3",
      "display_name": "Python 3"
    }
  },
  "cells": [
    {
      "cell_type": "markdown",
      "metadata": {
        "id": "view-in-github",
        "colab_type": "text"
      },
      "source": [
        "<a href=\"https://colab.research.google.com/github/choi-yh/Algorithm/blob/master/2_2_Bubble_Sort.ipynb\" target=\"_parent\"><img src=\"https://colab.research.google.com/assets/colab-badge.svg\" alt=\"Open In Colab\"/></a>"
      ]
    },
    {
      "cell_type": "markdown",
      "metadata": {
        "id": "LGLDC7Zuxsi_",
        "colab_type": "text"
      },
      "source": [
        "* 배열에서 i번째 값과 i+1 번째 값을 비교하면서 자리를 바꾼다.  \n",
        "\n",
        "* 시간복잡도는 $(n-1) + (n-2) + \\cdots + 2 + 1 = n(n-1)/2$ 회로 $O(n^2)$ 이다.  \n",
        "(but 이미 정렬이 되어있는 최상의 경우, n회 비교로 가능)"
      ]
    },
    {
      "cell_type": "markdown",
      "metadata": {
        "id": "qfYXG8Og1RGn",
        "colab_type": "text"
      },
      "source": [
        "* 알고리즘\n",
        "\n",
        "    Step 1: n-1 번째까지 i 번째 값과 i+1 번째 값을 비교하면서 자리를 바꾼다.  \n",
        "\n",
        "    Step 2: 0, n-2 번째까지 i 번째 값과 i+1 번째 값을 비교하면서 자리를 바꾼다.\n",
        "\n",
        "    Step 3: 0, 1번째까지 반복한다.\n",
        "\n",
        "교환하는 메서드 필요"
      ]
    },
    {
      "cell_type": "code",
      "metadata": {
        "id": "p63DIisU1rh-",
        "colab_type": "code",
        "outputId": "014c4444-6687-4462-897e-cb3a6a0cd539",
        "colab": {
          "base_uri": "https://localhost:8080/",
          "height": 108
        }
      },
      "source": [
        "class Sort:\n",
        "    def __init__(self, x):\n",
        "        self.x = x\n",
        "        self.n = len(x)\n",
        "    \n",
        "    def _findMin(self, x, curIdx):\n",
        "        minIdx = curIdx\n",
        "        xMin = x[curIdx]\n",
        "        for i in range(curIdx, self.n):\n",
        "            if x[i] < xMin:\n",
        "                xMin = x[i]\n",
        "                minIdx = i\n",
        "        return minIdx\n",
        "    \n",
        "    def _exchange(self, x, i, j):\n",
        "        x[i], x[j] = x[j], x[i]\n",
        "        return x\n",
        "    \n",
        "    \n",
        "    def bubbleSort(self):\n",
        "        while True:\n",
        "            cnt = 0\n",
        "            for i in range(self.n - 1):\n",
        "                if self.x[i] > self.x[i+1]:\n",
        "                    self._exchange(self.x, i, i+1)\n",
        "                    cnt += 1\n",
        "            print(self.x)\n",
        "            if cnt == 0:\n",
        "                break\n",
        "        return self.x\n",
        "\n",
        "    \n",
        "# 버블정렬 테스트\n",
        "\n",
        "x = [3, 7, 2, 1, 9, 8, 6] \n",
        "a = Sort(x)\n",
        "a.bubbleSort()"
      ],
      "execution_count": 0,
      "outputs": [
        {
          "output_type": "stream",
          "text": [
            "[3, 2, 1, 7, 8, 6, 9]\n",
            "[2, 1, 3, 7, 6, 8, 9]\n",
            "[1, 2, 3, 6, 7, 8, 9]\n",
            "[1, 2, 3, 6, 7, 8, 9]\n"
          ],
          "name": "stdout"
        },
        {
          "output_type": "execute_result",
          "data": {
            "text/plain": [
              "[1, 2, 3, 6, 7, 8, 9]"
            ]
          },
          "metadata": {
            "tags": []
          },
          "execution_count": 2
        }
      ]
    },
    {
      "cell_type": "code",
      "metadata": {
        "id": "V_BH59G52rLq",
        "colab_type": "code",
        "colab": {}
      },
      "source": [
        ""
      ],
      "execution_count": 0,
      "outputs": []
    }
  ]
}