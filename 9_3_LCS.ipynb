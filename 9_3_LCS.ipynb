{
  "nbformat": 4,
  "nbformat_minor": 0,
  "metadata": {
    "colab": {
      "name": "9-3 LCS.ipynb",
      "version": "0.3.2",
      "provenance": [],
      "collapsed_sections": [],
      "include_colab_link": true
    },
    "kernelspec": {
      "name": "python3",
      "display_name": "Python 3"
    }
  },
  "cells": [
    {
      "cell_type": "markdown",
      "metadata": {
        "id": "view-in-github",
        "colab_type": "text"
      },
      "source": [
        "<a href=\"https://colab.research.google.com/github/choi-yh/Algorithm/blob/master/9_3_LCS.ipynb\" target=\"_parent\"><img src=\"https://colab.research.google.com/assets/colab-badge.svg\" alt=\"Open In Colab\"/></a>"
      ]
    },
    {
      "cell_type": "markdown",
      "metadata": {
        "id": "rcmSIq2VWVNa",
        "colab_type": "text"
      },
      "source": [
        "* Longest Common Substring Problem\n",
        "    * 자신이 가지고 있는 문자열 중에 입력된 문자와 가장 비슷한 문자를 제시하는 서비스\n",
        "    \n",
        "* Longest Common Subsequence Algorithm\n",
        "    * 입력한 글자와 가지고 있는 글자를 대조\n",
        "    * 각 단어 별로 글자가 같지 않으면 윗칸과 좌측칸 중 최대값, 글자가 같으면 좌측 상단값 +1"
      ]
    },
    {
      "cell_type": "markdown",
      "metadata": {
        "id": "UR4Bc691Ws6X",
        "colab_type": "text"
      },
      "source": [
        "$LCS(X_i, Y_j) = \n",
        "\\begin{cases} \n",
        "0, & i=0, j=0 \\\\\n",
        "LCS(X_{i-1}, Y_{j-1} + 1), & x_i = y_j \\\\\n",
        "\\text{longest} (LCS(X_{i-1}, Y_j), \\text LCS(X_i, Y_{j-1})), & x_i \\ne y_j\n",
        "\\end{cases}$"
      ]
    },
    {
      "cell_type": "code",
      "metadata": {
        "id": "0qsnW7YkXrVl",
        "colab_type": "code",
        "colab": {}
      },
      "source": [
        ""
      ],
      "execution_count": 0,
      "outputs": []
    }
  ]
}