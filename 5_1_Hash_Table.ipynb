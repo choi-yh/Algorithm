{
  "nbformat": 4,
  "nbformat_minor": 0,
  "metadata": {
    "colab": {
      "name": "5-1 Hash Table.ipynb",
      "version": "0.3.2",
      "provenance": [],
      "collapsed_sections": [],
      "include_colab_link": true
    },
    "kernelspec": {
      "name": "python3",
      "display_name": "Python 3"
    }
  },
  "cells": [
    {
      "cell_type": "markdown",
      "metadata": {
        "id": "view-in-github",
        "colab_type": "text"
      },
      "source": [
        "<a href=\"https://colab.research.google.com/github/choi-yh/Algorithm/blob/master/5_1_Hash_Table.ipynb\" target=\"_parent\"><img src=\"https://colab.research.google.com/assets/colab-badge.svg\" alt=\"Open In Colab\"/></a>"
      ]
    },
    {
      "cell_type": "markdown",
      "metadata": {
        "id": "4BLl-88VXGVO",
        "colab_type": "text"
      },
      "source": [
        "* $O(1)$ 의 자료구조. 자료구조이자 알고리즘이다.  \n",
        "* 파이썬에서의 key와 value로 구성된 딕셔너리 자료구조이다.  \n",
        "\n",
        "* 해시 테이블의 활용: 탬색시 동일한 시간의 응답이 필요한 경우  \n",
        "    * url : address\n",
        "    * 바코드 : {상품번호, 상품명, 가격}  \n",
        "    * 캐시메모리  \n",
        "\n",
        "* 해시 테이블의 ***충돌*** : 두 개의 서로 다른 key가 같은 값을 반환하는 경우  \n",
        "    * 연결리스트를 사용한다.  \n",
        "        * 노드의 추가나 삭제가 유용하다. (노드에 key와 value 저장 + link)  \n",
        "        * 연결 리스트가 길어지게 되면 탐색시간이 증가한다.  \n",
        "        * key에 해당된 연결리스트의 길이차이가 많이 나게 되면 탐색시간의 표준편차가 증가한다. (안정된 성능 보장이 힘들다.)  \n",
        "    \n",
        "    1. 테이블을 연결리스트가 n개인 리스트로 만든다.  \n",
        "    2. 키를 숫자로 바꿔 n으로 나눈 나머지 값 위치에 key와 value를 가진 노드를 삽입한다.  \n",
        "    \n",
        "* 좋은 해시함수란? : 충돌을 최소화 하면서 탐색시간의 표준편차를 줄이는 함수  \n",
        "    * **사용률(load factor)** = 항목의 수 / 해시 테이블의 공간 수 (좋은 해시함수의 척도)\n",
        "    \n",
        "* 보통 Array의 크기를 데이터 수의 3배 정도로 한다."
      ]
    },
    {
      "cell_type": "markdown",
      "metadata": {
        "id": "ympP-XXxcMve",
        "colab_type": "text"
      },
      "source": [
        "* 많이 사용되는 해시함수\n",
        "\n",
        "    * $H = h(M)$ (h: 해시함수, M: 입력, H: 출력)  \n",
        "    * 임의의 길이의 입력에 대해 고정된 길이의 출력을 내보낸다.  \n",
        "    * 동일한 입력에 대해 동일한 출력을 보장한다.  \n",
        "    * 다른 입력이지만 같은 출력이 가능할 수 있는데 이러한 가능성이 작아야 한다.  \n",
        "    * 원본 데이터에 아주 작은 변화만 있어도 완전히 다른 해시값을 출력한다. (파일 위변조 비교)  \n",
        "    * 암호화에 쓰이는 해시함수는 H로부터 M을 복호화가 불가능  \n",
        "    * 응용분야 : 패스워드 암호화, 원본 인증, 블록체인 정보 비교 등  "
      ]
    },
    {
      "cell_type": "markdown",
      "metadata": {
        "id": "cxb4kFm4c1KT",
        "colab_type": "text"
      },
      "source": [
        "### Linked List를 통한 해시테이블 구현"
      ]
    },
    {
      "cell_type": "code",
      "metadata": {
        "id": "ewmZb5VNdBYI",
        "colab_type": "code",
        "colab": {
          "base_uri": "https://localhost:8080/",
          "height": 35
        },
        "outputId": "9b632c66-4fee-4c92-9ddb-cc99a91ad96b"
      },
      "source": [
        "# Linked List 작성\n",
        "\n",
        "class Node:\n",
        "    def __init__(self, key=None, value=None):\n",
        "        self.key = key\n",
        "        self.value = value\n",
        "        self.link = None\n",
        "        \n",
        "class LinkedList:\n",
        "    def __init__(self):\n",
        "        self.root = Node()\n",
        "        \n",
        "    def append(self, key, value):\n",
        "        newNode = Node(key, value)\n",
        "        curNode = self.root\n",
        "        cnt = 0\n",
        "        if self.root.key == None:\n",
        "            self.root = newNode\n",
        "        else:\n",
        "            curNode = self.root\n",
        "            while curNode.link != None:\n",
        "                cnt += 1\n",
        "                curNode = curNode.link\n",
        "            curNode.link = newNode\n",
        "        return cnt\n",
        "            \n",
        "    def delete(self, key):\n",
        "        curNode = self.root\n",
        "        if self.root.key == key:\n",
        "            self.root = self.root.link\n",
        "        else:\n",
        "            while curNode.link != None:\n",
        "                preNode = curNode\n",
        "                curNode = curNode.link\n",
        "                if curNode.key == key:\n",
        "                    preNode.link = curNode.link\n",
        "                \n",
        "    def get(self, key):\n",
        "        curNode = self.root\n",
        "        cnt = 0\n",
        "        while curNode.key != key:\n",
        "            cnt += 1\n",
        "            curNode.link = curNode\n",
        "        if curNode.key == key:\n",
        "            return curNode.value, cnt\n",
        "        else:\n",
        "            return None\n",
        "        \n",
        "    def print(self):\n",
        "        curNode = self.root\n",
        "        while curNode.link != None:\n",
        "            print([curNode.key, curNode.value], end='-')\n",
        "            curNode = curNode.link\n",
        "        print([curNode.key, curNode.value])\n",
        "        \n",
        "a = LinkedList()\n",
        "a.append('love','사랑')\n",
        "a.append('hate','미움')\n",
        "a.append('man','남자')\n",
        "a.append('woman','여자')\n",
        "#a.delete('woman')\n",
        "a.print()"
      ],
      "execution_count": 1,
      "outputs": [
        {
          "output_type": "stream",
          "text": [
            "['love', '사랑']-['hate', '미움']-['man', '남자']-['woman', '여자']\n"
          ],
          "name": "stdout"
        }
      ]
    },
    {
      "cell_type": "code",
      "metadata": {
        "id": "sfG9_eBddSnB",
        "colab_type": "code",
        "colab": {}
      },
      "source": [
        "class Dic:\n",
        "    def __init__(self, n):\n",
        "        self.n = n\n",
        "        self.table = [LinkedList() for _ in range(n)]\n",
        "        \n",
        "    def _str2int(self, a):\n",
        "        num = 0\n",
        "        for i in range(len(a)):\n",
        "            num += ord(a[i])\n",
        "        return num\n",
        "    \n",
        "    def add(self, key, value):\n",
        "        _tmp = self._str2int(key) % self.n\n",
        "        return self.table[_tmp].append(key, value)  # 여기서 return은 왜? - cnt가 나오는거 같은데...\n",
        "    \n",
        "    def getValue(self, key):\n",
        "        _tmp = self._str2int(key) % self.n\n",
        "        return self.table[_tmp].get(key)\n",
        "    \n",
        "    def delete(self, key):\n",
        "        _tmp = self._str2int(key) % self.n\n",
        "        self.table[_tmp].delete(key)"
      ],
      "execution_count": 0,
      "outputs": []
    },
    {
      "cell_type": "code",
      "metadata": {
        "id": "ZYBuOc-FdWvr",
        "colab_type": "code",
        "colab": {
          "base_uri": "https://localhost:8080/",
          "height": 128
        },
        "outputId": "caac3204-27c1-4822-d261-656d5fe45d50"
      },
      "source": [
        "from google.colab import drive\n",
        "drive.mount('/gdrive')"
      ],
      "execution_count": 3,
      "outputs": [
        {
          "output_type": "stream",
          "text": [
            "Go to this URL in a browser: https://accounts.google.com/o/oauth2/auth?client_id=947318989803-6bn6qk8qdgf4n4g3pfee6491hc0brc4i.apps.googleusercontent.com&redirect_uri=urn%3Aietf%3Awg%3Aoauth%3A2.0%3Aoob&scope=email%20https%3A%2F%2Fwww.googleapis.com%2Fauth%2Fdocs.test%20https%3A%2F%2Fwww.googleapis.com%2Fauth%2Fdrive%20https%3A%2F%2Fwww.googleapis.com%2Fauth%2Fdrive.photos.readonly%20https%3A%2F%2Fwww.googleapis.com%2Fauth%2Fpeopleapi.readonly&response_type=code\n",
            "\n",
            "Enter your authorization code:\n",
            "··········\n",
            "Mounted at /gdrive\n"
          ],
          "name": "stdout"
        }
      ]
    },
    {
      "cell_type": "code",
      "metadata": {
        "id": "qEUoR2OHdcyA",
        "colab_type": "code",
        "colab": {
          "base_uri": "https://localhost:8080/",
          "height": 53
        },
        "outputId": "0930ce74-df29-46d8-f049-35e5c9050282"
      },
      "source": [
        "import csv\n",
        "\n",
        "f = open('/gdrive/My Drive/Python/알고리즘/data/price.csv', 'r')\n",
        "csvReader = csv.reader(f)\n",
        "\n",
        "priceTable = Dic(58)\n",
        "for row in csvReader:\n",
        "    priceTable.add(row[0], row[1])\n",
        "    \n",
        "print(priceTable.getValue('참이슬 병소주(360㎖)-참이슬'))\n",
        "print(priceTable.getValue('버섯감치미(300g)-버섯감치미'))"
      ],
      "execution_count": 4,
      "outputs": [
        {
          "output_type": "stream",
          "text": [
            "(' 1190 ', 0)\n",
            "(' 4600 ', 0)\n"
          ],
          "name": "stdout"
        }
      ]
    },
    {
      "cell_type": "code",
      "metadata": {
        "id": "RSom1Ntmd27v",
        "colab_type": "code",
        "colab": {}
      },
      "source": [
        ""
      ],
      "execution_count": 0,
      "outputs": []
    }
  ]
}