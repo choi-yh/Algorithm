{
  "nbformat": 4,
  "nbformat_minor": 0,
  "metadata": {
    "colab": {
      "name": "3-3 HW3.ipynb",
      "version": "0.3.2",
      "provenance": [],
      "collapsed_sections": [],
      "include_colab_link": true
    },
    "kernelspec": {
      "name": "python3",
      "display_name": "Python 3"
    }
  },
  "cells": [
    {
      "cell_type": "markdown",
      "metadata": {
        "id": "view-in-github",
        "colab_type": "text"
      },
      "source": [
        "<a href=\"https://colab.research.google.com/github/choi-yh/Algorithm/blob/master/3_3_HW3.ipynb\" target=\"_parent\"><img src=\"https://colab.research.google.com/assets/colab-badge.svg\" alt=\"Open In Colab\"/></a>"
      ]
    },
    {
      "cell_type": "markdown",
      "metadata": {
        "id": "e1WV_308N6Pw",
        "colab_type": "text"
      },
      "source": [
        "### 이진탐색 알고리즘을 재귀로 구현하시오."
      ]
    },
    {
      "cell_type": "code",
      "metadata": {
        "id": "t8KbxickOFeM",
        "colab_type": "code",
        "colab": {}
      },
      "source": [
        "# 텍스트 입력 받아서 정리하기\n",
        "\n",
        "text = \"Why does the sun go on shining? Why does the sea rush to shore? Don't they know it's the end of the world? Cause you don't love me anymore Why do the birds go on singing?\"\n",
        "text += \" Why do the stars glow above? Don't they know it's the end of the world? It ended when I lost your love I wake up in the morning and I wonder Why everything's the same as it was\"\n",
        "text += \" I can't understand, no, I can't understand How life goes on the way it does Why does my heart go on beating? Why do these eyes of mine cry? Don't they know it's the end of the world?\"\n",
        "text += \" It ended when you said goodbye Why does my heart go on beating? Why do these eyes of mine cry? Don't they know it's the end of the world? It ended when you said goodbye\"\n",
        "\n",
        "text = text.lower()\n",
        "text = set(text.split())\n",
        "text = list(text)\n",
        "text.sort()"
      ],
      "execution_count": 0,
      "outputs": []
    },
    {
      "cell_type": "code",
      "metadata": {
        "id": "RupznV1QOGYS",
        "colab_type": "code",
        "colab": {
          "base_uri": "https://localhost:8080/",
          "height": 164
        },
        "outputId": "49294197-5cca-4f2e-b549-1ba4d2f1878a"
      },
      "source": [
        "class textSearch:\n",
        "    def __init__(self, text):\n",
        "        self.text = text\n",
        "        \n",
        "    def stringOrder(self, s1, s2):\n",
        "        m = len(s1)\n",
        "        n = len(s2)\n",
        "        for i in range(min(m, n)):\n",
        "            if ord(s1[i]) < ord(s2[i]):\n",
        "                return True\n",
        "            elif ord(s1[i]) > ord(s2[i]):\n",
        "                return False\n",
        "\n",
        "        if m < n:\n",
        "            return True\n",
        "        elif m > n:\n",
        "            return False\n",
        "        else:\n",
        "            return None # 같을 때\n",
        "        \n",
        "    def binarySearch(self, word):\n",
        "        return self._binarySearch(self.text, word)\n",
        "    \n",
        "    def _binarySearch(self, text, word):\n",
        "        mididx = len(text) // 2\n",
        "        print(text)\n",
        "        if self.stringOrder(text[mididx], word) == None:\n",
        "            return text[mididx] # 어떤 값을 리턴받고 None일 때 어떻게 해야할지 모르겠다.\n",
        "        else:\n",
        "            if self.stringOrder(text[mididx], word) == True:\n",
        "                return self._binarySearch(text[mididx:], word)\n",
        "            else:\n",
        "                return self._binarySearch(text[:mididx], word)\n",
        "            \n",
        "    \n",
        "lyrics = textSearch(text)\n",
        "print(lyrics.binarySearch(\"why\"))"
      ],
      "execution_count": 3,
      "outputs": [
        {
          "output_type": "stream",
          "text": [
            "['above?', 'and', 'anymore', 'as', 'beating?', 'birds', \"can't\", 'cause', 'cry?', 'do', 'does', \"don't\", 'end', 'ended', \"everything's\", 'eyes', 'glow', 'go', 'goes', 'goodbye', 'heart', 'how', 'i', 'in', 'it', \"it's\", 'know', 'life', 'lost', 'love', 'me', 'mine', 'morning', 'my', 'no,', 'of', 'on', 'rush', 'said', 'same', 'sea', 'shining?', 'shore?', 'singing?', 'stars', 'sun', 'the', 'these', 'they', 'to', 'understand', 'understand,', 'up', 'wake', 'was', 'way', 'when', 'why', 'wonder', 'world?', 'you', 'your']\n",
            "['mine', 'morning', 'my', 'no,', 'of', 'on', 'rush', 'said', 'same', 'sea', 'shining?', 'shore?', 'singing?', 'stars', 'sun', 'the', 'these', 'they', 'to', 'understand', 'understand,', 'up', 'wake', 'was', 'way', 'when', 'why', 'wonder', 'world?', 'you', 'your']\n",
            "['the', 'these', 'they', 'to', 'understand', 'understand,', 'up', 'wake', 'was', 'way', 'when', 'why', 'wonder', 'world?', 'you', 'your']\n",
            "['was', 'way', 'when', 'why', 'wonder', 'world?', 'you', 'your']\n",
            "['was', 'way', 'when', 'why']\n",
            "['when', 'why']\n",
            "why\n"
          ],
          "name": "stdout"
        }
      ]
    },
    {
      "cell_type": "code",
      "metadata": {
        "id": "FpGebbTGOLQb",
        "colab_type": "code",
        "colab": {}
      },
      "source": [
        ""
      ],
      "execution_count": 0,
      "outputs": []
    }
  ]
}