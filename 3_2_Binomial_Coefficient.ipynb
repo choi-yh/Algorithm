{
  "nbformat": 4,
  "nbformat_minor": 0,
  "metadata": {
    "colab": {
      "name": "3-2 Binomial Coefficient.ipynb",
      "version": "0.3.2",
      "provenance": [],
      "collapsed_sections": [],
      "include_colab_link": true
    },
    "kernelspec": {
      "name": "python3",
      "display_name": "Python 3"
    }
  },
  "cells": [
    {
      "cell_type": "markdown",
      "metadata": {
        "id": "view-in-github",
        "colab_type": "text"
      },
      "source": [
        "<a href=\"https://colab.research.google.com/github/choi-yh/Algorithm/blob/master/3_2_Binomial_Coefficient.ipynb\" target=\"_parent\"><img src=\"https://colab.research.google.com/assets/colab-badge.svg\" alt=\"Open In Colab\"/></a>"
      ]
    },
    {
      "cell_type": "markdown",
      "metadata": {
        "id": "yJjcBrmhNKRU",
        "colab_type": "text"
      },
      "source": [
        "$_{n}\\mathrm{C}_{r}$을 recursive하게 표현해보기 $\\Rightarrow$ recursion을 이용하면 계산이 빨라지는 경우  (순차적(sequential vs 병렬))"
      ]
    },
    {
      "cell_type": "markdown",
      "metadata": {
        "id": "QqTmnd6XNRss",
        "colab_type": "text"
      },
      "source": [
        "$$_{n}\\mathrm{C}_{r} = \\frac{n!}{r! \\cdot (n-r)!}$$  \n",
        "$$= \\frac{n \\cdot (n-1)!}{r \\cdot (r-1)! \\cdot ((n-1) - (r-1))!} $$  \n",
        "$$= \\frac{n}{r} \\cdot _{n-1}\\mathrm{C}_{r-1} $$"
      ]
    },
    {
      "cell_type": "code",
      "metadata": {
        "id": "rQ_N4IeGNTU3",
        "colab_type": "code",
        "colab": {
          "base_uri": "https://localhost:8080/",
          "height": 144
        },
        "outputId": "9a9315f8-2c7a-45bd-f600-5b4920b32643"
      },
      "source": [
        "# 이항계수 알고리즘\n",
        "\n",
        "import time\n",
        "\n",
        "n = 100\n",
        "r = 10\n",
        "\n",
        "# 수학적 정의 그대로 구현\n",
        "def fact(n):\n",
        "    global cnt\n",
        "    prod = 1\n",
        "    for i in range(1,n+1):\n",
        "        prod *= i\n",
        "        cnt += 1\n",
        "    return prod\n",
        "\n",
        "def binomCoef(n,r):\n",
        "    return fact(n) / (fact(r) * fact(n-r))\n",
        "\n",
        "cnt = 0\n",
        "stime = time.time()\n",
        "print(binomCoef(n, r))\n",
        "print(time.time() - stime)\n",
        "print(cnt)   # 2 * n\n",
        "print(' ')\n",
        "\n",
        "# 재귀를 이용한 구현\n",
        "def binomCoefRecursive(n,r):\n",
        "    global cnt\n",
        "    if n >= r:\n",
        "        if n == 1:\n",
        "            cnt += 1\n",
        "            return 1\n",
        "        if r == 1:\n",
        "            cnt += 1\n",
        "            return n\n",
        "        elif r > 1:\n",
        "            cnt += 1\n",
        "            return n * binomCoefRecursive(n-1,r-1) / r\n",
        "    else:\n",
        "        cnt += 1\n",
        "        return 0\n",
        "\n",
        "cnt = 0    \n",
        "stime = time.time()\n",
        "print(binomCoefRecursive(n, r))   \n",
        "print(time.time() - stime)\n",
        "print(cnt)  # k time\n"
      ],
      "execution_count": 3,
      "outputs": [
        {
          "output_type": "stream",
          "text": [
            "17310309456440.0\n",
            "0.0006318092346191406\n",
            "200\n",
            " \n",
            "17310309456440.0\n",
            "0.00015115737915039062\n",
            "10\n"
          ],
          "name": "stdout"
        }
      ]
    },
    {
      "cell_type": "code",
      "metadata": {
        "id": "smmEqOP5NU3p",
        "colab_type": "code",
        "colab": {}
      },
      "source": [
        ""
      ],
      "execution_count": 0,
      "outputs": []
    }
  ]
}