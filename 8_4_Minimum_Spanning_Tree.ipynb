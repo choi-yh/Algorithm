{
  "nbformat": 4,
  "nbformat_minor": 0,
  "metadata": {
    "colab": {
      "name": "8-4 Minimum Spanning Tree.ipynb",
      "version": "0.3.2",
      "provenance": [],
      "collapsed_sections": [],
      "include_colab_link": true
    },
    "kernelspec": {
      "name": "python3",
      "display_name": "Python 3"
    }
  },
  "cells": [
    {
      "cell_type": "markdown",
      "metadata": {
        "id": "view-in-github",
        "colab_type": "text"
      },
      "source": [
        "<a href=\"https://colab.research.google.com/github/choi-yh/Algorithm/blob/master/8_4_Minimum_Spanning_Tree.ipynb\" target=\"_parent\"><img src=\"https://colab.research.google.com/assets/colab-badge.svg\" alt=\"Open In Colab\"/></a>"
      ]
    },
    {
      "cell_type": "markdown",
      "metadata": {
        "id": "ld8lbknNNX7I",
        "colab_type": "text"
      },
      "source": [
        "* 신장트리 : 네트워크의 모든 노드가 포함된 트리, 트리의 연결엣지는 노드수 -1 (bfs, dfs로 구현가능)  \n",
        "\n",
        "* 최소 비용 신장트리(MST) : 신장 트리 중 최소비용으로 연결 가능한 트리  \n",
        "    1. 간선의 가중치 합이 최소\n",
        "    2. 간선 수는 n-1 개\n",
        "    3. 사이클이 없어야한다.\n"
      ]
    },
    {
      "cell_type": "markdown",
      "metadata": {
        "id": "JDjEg4JaN2ZR",
        "colab_type": "text"
      },
      "source": [
        "* **Kruskal I 알고리즘**\n",
        "    1. 간선을 내림차순으로 정리\n",
        "    2. 가장 큰 값을 가지는 간선부터 차례로 제거\n",
        "    3. 제거하면서 정점이 분리되면 다음 간선을 제거한다."
      ]
    },
    {
      "cell_type": "markdown",
      "metadata": {
        "id": "0UD0FRegOMFQ",
        "colab_type": "text"
      },
      "source": [
        "* **Kruskal II 알고리즘**\n",
        "    1. 간선을 오름차순으로 정리\n",
        "    2. 간선이 작은 것부터 차례로 삽입\n",
        "    3. 사이클이 발생하면 삽입을 하지않고 다음 간선으로 넘어간다.\n",
        "    4. 간선의 갯수가 n-1 개가 될 때까지 반복한다."
      ]
    },
    {
      "cell_type": "markdown",
      "metadata": {
        "id": "lze6PxQWOYiw",
        "colab_type": "text"
      },
      "source": [
        "* **Prim 알고리즘**\n",
        "    1. 시작 정점만 추가한다.\n",
        "    2. 이전 신장트리에서 낮은 가중치를 가지는 간선을 선택한다.\n",
        "    3. 간선의 갯수가 n-1 개가 될때까지 반복한다."
      ]
    },
    {
      "cell_type": "code",
      "metadata": {
        "id": "zv0XdOTrOjwC",
        "colab_type": "code",
        "colab": {}
      },
      "source": [
        ""
      ],
      "execution_count": 0,
      "outputs": []
    }
  ]
}