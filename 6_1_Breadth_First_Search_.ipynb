{
  "nbformat": 4,
  "nbformat_minor": 0,
  "metadata": {
    "colab": {
      "name": "6-1 Breadth First Search .ipynb",
      "version": "0.3.2",
      "provenance": [],
      "collapsed_sections": [],
      "include_colab_link": true
    },
    "kernelspec": {
      "name": "python3",
      "display_name": "Python 3"
    }
  },
  "cells": [
    {
      "cell_type": "markdown",
      "metadata": {
        "id": "view-in-github",
        "colab_type": "text"
      },
      "source": [
        "<a href=\"https://colab.research.google.com/github/choi-yh/Algorithm/blob/master/6_1_Breadth_First_Search_.ipynb\" target=\"_parent\"><img src=\"https://colab.research.google.com/assets/colab-badge.svg\" alt=\"Open In Colab\"/></a>"
      ]
    },
    {
      "cell_type": "markdown",
      "metadata": {
        "id": "bY5m3BO5e4j6",
        "colab_type": "text"
      },
      "source": [
        "* **Graph**  \n",
        "    * 그래프는 노드(node)와 엣지(edge)를 연결하는 자료구조이다.  \n",
        "    * SNS에서 그래프 자료구조를 많이 사용한다.\n",
        "    "
      ]
    },
    {
      "cell_type": "markdown",
      "metadata": {
        "id": "z-r69dhvfrSs",
        "colab_type": "text"
      },
      "source": [
        "* **BFS**\n",
        "    * 시작 정점에서 가까운 정점을 먼저 방문하고 멀리 떨어진 정점을 나중에 방문하는 순회법  \n",
        "    * Queue를 사용한다. (FIFO)\n",
        "    * 최단거리 찾기 : 부모 노드를 기록하며 이동한다.\n",
        "    \n",
        "    * 알고리즘\n",
        "        1. 시작 노드에 연결된 노드들을 큐에 추가 (시작 노드는 pop해서 visit 리스트에 넣는다.)\n",
        "        2. visit에 없으면 1을 반복하고 queue가 빈 큐가 될 때가지 실행한다. "
      ]
    },
    {
      "cell_type": "code",
      "metadata": {
        "id": "MP0w-0y1i1sO",
        "colab_type": "code",
        "colab": {}
      },
      "source": [
        "def bfs(graph, start):\n",
        "    queue = []\n",
        "    queue += graph[start]\n",
        "    visit = [start]\n",
        "    \n",
        "    while queue:\n",
        "        item = queue.pop(0)\n",
        "        if not item in visit:\n",
        "            queue += graph[item]\n",
        "            visit.append(item)\n",
        "    return visit"
      ],
      "execution_count": 0,
      "outputs": []
    },
    {
      "cell_type": "code",
      "metadata": {
        "id": "I-C1DhE7il09",
        "colab_type": "code",
        "colab": {
          "base_uri": "https://localhost:8080/",
          "height": 73
        },
        "outputId": "56815ed3-361e-48d2-d3a1-1fe4e712cf06"
      },
      "source": [
        "# BFS를 이용해서 최단 경로 찾기\n",
        "\n",
        "class BFS:\n",
        "    def __init__(self, graph, start, end):\n",
        "        self.graph = graph\n",
        "        self.start = start\n",
        "        self.end = end\n",
        "        \n",
        "    def minPath(self):\n",
        "        queue = []\n",
        "        parentsQueue = []\n",
        "        queue += self.graph[self.start]\n",
        "        parentsQueue += [self.start] * len(self.graph[self.start])\n",
        "        visit = [self.start]\n",
        "        parents = ['None']\n",
        "        \n",
        "        while queue:\n",
        "            item = queue.pop(0)\n",
        "            temp = parentsQueue.pop(0)\n",
        "            if item not in visit:\n",
        "                queue += self.graph[item]\n",
        "                parentsQueue += [item] * len(self.graph[item])\n",
        "                visit.append(item)\n",
        "                parents.append(temp)\n",
        "                if item == self.end:\n",
        "                    visits = dict(zip(visit, parents))\n",
        "        \n",
        "        path = [self.end]\n",
        "        print(visits)\n",
        "        \n",
        "        curNode = self.end\n",
        "        while curNode != 'None':\n",
        "            curNode = visits[curNode]\n",
        "            path.append(curNode)\n",
        "        return path[::-1][1:]\n",
        "    \n",
        "korea = {'세종': set(['서울', '대구', '광주']),\n",
        "         '서울': set(['평양', '인천', '세종', '강릉']),\n",
        "         '강릉': set(['독도', '서울']),\n",
        "         '광주': set(['세종', '여수']),\n",
        "         '대구': set(['세종', '울산']),\n",
        "         '평양': set(['서울']),\n",
        "         '인천': set(['서울']),\n",
        "         '독도': set(['강릉', '울산']),\n",
        "         '여수': set(['광주', '부산']),\n",
        "         '울산': set(['대구', '부산', '독도']),\n",
        "         '부산': set(['여수', '울산']),\n",
        "         }\n",
        "\n",
        "path = BFS(korea, '부산', '평양')  # 부산에서 평양을 가는 BFS를 생성한다.\n",
        "print(path.minPath())"
      ],
      "execution_count": 2,
      "outputs": [
        {
          "output_type": "stream",
          "text": [
            "{'부산': 'None', '울산': '부산', '여수': '부산', '독도': '울산', '대구': '울산', '광주': '여수', '강릉': '독도', '세종': '대구', '서울': '강릉', '인천': '서울', '평양': '서울'}\n",
            "['부산', '울산', '독도', '강릉', '서울', '평양']\n"
          ],
          "name": "stdout"
        }
      ]
    },
    {
      "cell_type": "code",
      "metadata": {
        "id": "FVGy_6hNiuf0",
        "colab_type": "code",
        "colab": {}
      },
      "source": [
        ""
      ],
      "execution_count": 0,
      "outputs": []
    }
  ]
}