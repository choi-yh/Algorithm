{
  "nbformat": 4,
  "nbformat_minor": 0,
  "metadata": {
    "colab": {
      "name": "2-4 Shell Sort.ipynb",
      "version": "0.3.2",
      "provenance": [],
      "collapsed_sections": [],
      "include_colab_link": true
    },
    "kernelspec": {
      "name": "python3",
      "display_name": "Python 3"
    }
  },
  "cells": [
    {
      "cell_type": "markdown",
      "metadata": {
        "id": "view-in-github",
        "colab_type": "text"
      },
      "source": [
        "<a href=\"https://colab.research.google.com/github/choi-yh/Algorithm/blob/master/2_4_Shell_Sort.ipynb\" target=\"_parent\"><img src=\"https://colab.research.google.com/assets/colab-badge.svg\" alt=\"Open In Colab\"/></a>"
      ]
    },
    {
      "cell_type": "markdown",
      "metadata": {
        "id": "_nzmO56G7pQk",
        "colab_type": "text"
      },
      "source": [
        "* 삽입 정렬을 보완  \n",
        "\n",
        "* 삽입 정렬에서 삽입하는 위치에 따라 비교회수가 달라지는데 비교회수를 줄이는 아이디어에서 출발하였다.  \n",
        "\n",
        "* 비교회수를 줄이기 위해 바로 옆과 비교하는 것이 아니라 몇칸 건너 비교하고 한번에 여러 칸을 이동한다.\n",
        "\n",
        "* 이 알고리즘의 핵심은 *어떤 간격* 으로 정렬을 수행해 나갈 것인가 이다. (간격에 따라 시간복잡도가 달라짐)\n",
        "\n",
        "* 시간복잡도는 $O(n^2)$ 간격을 잘 선택할 시 $O(n^{1.25})$ 까지도 줄일 수 있다.  "
      ]
    },
    {
      "cell_type": "markdown",
      "metadata": {
        "id": "Gk8i8ckr8VOM",
        "colab_type": "text"
      },
      "source": [
        "* 알고리즘\n",
        "\n",
        "    Step 1: 초기 간격 h = n//2 (홀수가 좋다.)  \n",
        "\n",
        "    Step 2: 0번째부터 데이터를 간격에 따라 선택해 삽입정렬을 수행한다. (간격에 따른 부분 리스트)\n",
        "\n",
        "    Step 3: 1번째부터 데이터를 간격에 따라 선택해 삽입정렬을 수행한다. (0, 1, $\\cdots$ h-1 까지 h 번 반복한다.)\n",
        "\n",
        "    Step 4: 간격을 반으로 줄이고 2로 간다. (간격이 1이 될 때까지 반복한다.)\n",
        "\n",
        "간격만큼 뽑은 데이터를 정렬하고 다시 원래 데이터에 입력해주는 것이 필요하다."
      ]
    },
    {
      "cell_type": "code",
      "metadata": {
        "id": "TPefz2_T85sm",
        "colab_type": "code",
        "outputId": "372f1a05-5de5-43e4-81ec-cf33547f4111",
        "colab": {
          "base_uri": "https://localhost:8080/",
          "height": 289
        }
      },
      "source": [
        "class Sort:\n",
        "    def __init__(self, x):\n",
        "        self.x = x\n",
        "        self.n = len(x)\n",
        "    \n",
        "    def _findMin(self, x, curIdx):\n",
        "        minIdx = curIdx\n",
        "        xMin = x[curIdx]\n",
        "        for i in range(curIdx, self.n):\n",
        "            if x[i] < xMin:\n",
        "                xMin = x[i]\n",
        "                minIdx = i\n",
        "        return minIdx\n",
        "    \n",
        "    def _exchange(self, x, i, j):\n",
        "        x[i], x[j] = x[j], x[i]\n",
        "        return x\n",
        "\n",
        "    \n",
        "    def shellSort(self):\n",
        "        \n",
        "        def _insertionSort(x):\n",
        "            pivot = 1\n",
        "            while pivot < len(x):\n",
        "                for i in range(pivot, 0, -1):\n",
        "                    if x[i] < x[i-1]:\n",
        "                        self._exchange(x, i, i-1)\n",
        "                pivot += 1\n",
        "            return x\n",
        "        \n",
        "        h = self.n // 2\n",
        "        while h >= 1:\n",
        "            for pivot in range(self.n):\n",
        "                _tmp = []\n",
        "                for i in range(pivot, self.n, h):\n",
        "                    _tmp.append(self.x[i])\n",
        "                _insertionSort(_tmp)\n",
        "                print(_tmp)\n",
        "                \n",
        "                for j in range(len(_tmp)):\n",
        "                    self.x[pivot + j*h] = _tmp[j]\n",
        "            h = h//2\n",
        "        return self.x\n",
        "        \n",
        "        \n",
        "# 쉘정렬 테스트\n",
        "\n",
        "x = [3, 7, 2, 1, 9, 8, 6] \n",
        "a = Sort(x)\n",
        "a.shellSort()"
      ],
      "execution_count": 0,
      "outputs": [
        {
          "output_type": "stream",
          "text": [
            "[1, 3, 6]\n",
            "[7, 9]\n",
            "[2, 8]\n",
            "[3, 6]\n",
            "[9]\n",
            "[8]\n",
            "[6]\n",
            "[1, 2, 3, 6, 7, 8, 9]\n",
            "[2, 3, 6, 7, 8, 9]\n",
            "[3, 6, 7, 8, 9]\n",
            "[6, 7, 8, 9]\n",
            "[7, 8, 9]\n",
            "[8, 9]\n",
            "[9]\n"
          ],
          "name": "stdout"
        },
        {
          "output_type": "execute_result",
          "data": {
            "text/plain": [
              "[1, 2, 3, 6, 7, 8, 9]"
            ]
          },
          "metadata": {
            "tags": []
          },
          "execution_count": 1
        }
      ]
    },
    {
      "cell_type": "code",
      "metadata": {
        "id": "UJsipPEZ9Kj0",
        "colab_type": "code",
        "colab": {}
      },
      "source": [
        ""
      ],
      "execution_count": 0,
      "outputs": []
    }
  ]
}