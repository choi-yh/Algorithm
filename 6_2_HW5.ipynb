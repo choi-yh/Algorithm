{
  "nbformat": 4,
  "nbformat_minor": 0,
  "metadata": {
    "colab": {
      "name": "6-2 HW5.ipynb",
      "version": "0.3.2",
      "provenance": [],
      "collapsed_sections": [],
      "include_colab_link": true
    },
    "kernelspec": {
      "name": "python3",
      "display_name": "Python 3"
    }
  },
  "cells": [
    {
      "cell_type": "markdown",
      "metadata": {
        "id": "view-in-github",
        "colab_type": "text"
      },
      "source": [
        "<a href=\"https://colab.research.google.com/github/choi-yh/Algorithm/blob/master/6_2_HW5.ipynb\" target=\"_parent\"><img src=\"https://colab.research.google.com/assets/colab-badge.svg\" alt=\"Open In Colab\"/></a>"
      ]
    },
    {
      "cell_type": "markdown",
      "metadata": {
        "id": "ooTpFOlCjpQf",
        "colab_type": "text"
      },
      "source": [
        "### 위 통신회선 문제에서 서울과 세종사이 회선이 불탔다. 현재 상태로 네트워크가 속도에 상관없이 연결되는데에 문제가 없는지 BFS 알고리즘을 통해 검사하시오."
      ]
    },
    {
      "cell_type": "markdown",
      "metadata": {
        "id": "aZnw4tG1kMWy",
        "colab_type": "text"
      },
      "source": [
        "* 순회해서 key의 개수와 가본 곳과 비교하기 (len(visit)) 확인"
      ]
    },
    {
      "cell_type": "code",
      "metadata": {
        "id": "0FonwhBqkaNl",
        "colab_type": "code",
        "colab": {
          "base_uri": "https://localhost:8080/",
          "height": 35
        },
        "outputId": "3919f34d-cc33-4f29-9a90-dff26f334487"
      },
      "source": [
        "korea = {'세종': set(['대구', '광주']),\n",
        "         '서울': set(['평양', '인천', '강릉']),\n",
        "         '강릉': set(['독도', '서울']),\n",
        "         '광주': set(['세종', '여수']),\n",
        "         '대구': set(['세종', '울산']),\n",
        "         '평양': set(['서울']),\n",
        "         '인천': set(['서울']),\n",
        "         '독도': set(['강릉', '울산']),\n",
        "         '여수': set(['광주', '부산']),\n",
        "         '울산': set(['대구', '부산', '독도']),\n",
        "         '부산': set(['여수', '울산']),\n",
        "         }\n",
        "korea.keys()"
      ],
      "execution_count": 4,
      "outputs": [
        {
          "output_type": "execute_result",
          "data": {
            "text/plain": [
              "dict_keys(['세종', '서울', '강릉', '광주', '대구', '평양', '인천', '독도', '여수', '울산', '부산'])"
            ]
          },
          "metadata": {
            "tags": []
          },
          "execution_count": 4
        }
      ]
    },
    {
      "cell_type": "code",
      "metadata": {
        "id": "ruLTnS3_ki4q",
        "colab_type": "code",
        "colab": {
          "base_uri": "https://localhost:8080/",
          "height": 53
        },
        "outputId": "e01f8dc6-5e53-4a15-fd90-621a1c22b615"
      },
      "source": [
        "# dfs 이용\n",
        "\n",
        "class Stack:\n",
        "    def __init__(self):\n",
        "        self.s = []\n",
        "\n",
        "    def push(self, item):\n",
        "        self.s.append(item)\n",
        "\n",
        "    def pop(self):\n",
        "        if self.isEmpty() == False:\n",
        "            return self.s.pop(-1)\n",
        "        else:\n",
        "            return None\n",
        "\n",
        "    def peek(self):\n",
        "        if self.isEmpty() == False:\n",
        "            return self.s[-1]\n",
        "        else:\n",
        "            return None\n",
        "\n",
        "    def isEmpty(self):\n",
        "        if len(self.s) > 0:\n",
        "            return False\n",
        "        else:\n",
        "            return True\n",
        "\n",
        "    def size(self):\n",
        "        return len(self.s)\n",
        "\n",
        "    def print(self):\n",
        "        print(self.s)\n",
        "        \n",
        "class Graph:\n",
        "    def __init__(self, graph, start):\n",
        "        self.graph = graph\n",
        "        self.start = start\n",
        "        self.s = Stack()\n",
        "        self.visit = []\n",
        "\n",
        "    def dfs(self):\n",
        "        self.s.push(self.start)\n",
        "        while self.s.isEmpty() == False:\n",
        "            curNode = self.s.pop()\n",
        "            if curNode not in self.visit:\n",
        "                for node in set(self.graph[curNode]) - set(self.visit):\n",
        "                    self.s.push(node)\n",
        "                    # print(curNode,end=\" \")\n",
        "                    # self.s.print()\n",
        "                self.visit.append(curNode)\n",
        "            else:\n",
        "                print(curNode,\"에 싸이클이 존재합니다.\" )\n",
        "        return self.visit\n",
        "    \n",
        "dfs = Graph(korea, '부산')\n",
        "print(dfs.dfs())"
      ],
      "execution_count": 5,
      "outputs": [
        {
          "output_type": "stream",
          "text": [
            "여수 에 싸이클이 존재합니다.\n",
            "['부산', '울산', '독도', '강릉', '서울', '평양', '인천', '대구', '세종', '광주', '여수']\n"
          ],
          "name": "stdout"
        }
      ]
    },
    {
      "cell_type": "code",
      "metadata": {
        "id": "iK5sQeyAkkSV",
        "colab_type": "code",
        "colab": {
          "base_uri": "https://localhost:8080/",
          "height": 73
        },
        "outputId": "81aab296-8fcc-402b-9fb5-88114557e22c"
      },
      "source": [
        "class BFS:\n",
        "    def __init__(self, graph):\n",
        "        self.graph = graph\n",
        "        \n",
        "    def minPath(self, start, end):\n",
        "        queue = []\n",
        "        parentsQueue = []\n",
        "        queue += self.graph[start]\n",
        "        parentsQueue += [start] * len(self.graph[start])\n",
        "        visit = [start]\n",
        "        parents = ['None']\n",
        "        \n",
        "        while queue:\n",
        "            item = queue.pop(0)\n",
        "            temp = parentsQueue.pop(0)\n",
        "            if item not in visit:\n",
        "                queue += self.graph[item]\n",
        "                parentsQueue += [item] * len(self.graph[item])\n",
        "                visit.append(item)\n",
        "                parents.append(temp)\n",
        "                if item == end:\n",
        "                    visits = dict(zip(visit, parents))\n",
        "        \n",
        "        path = [end]\n",
        "        print(visits)\n",
        "        \n",
        "        curNode = end\n",
        "        while curNode != 'None':\n",
        "            curNode = visits[curNode]\n",
        "            path.append(curNode)\n",
        "        return path[::-1][1:]\n",
        "    \n",
        "    def check(self, start):\n",
        "        queue = []\n",
        "        queue += self.graph[start]\n",
        "        visit = set()\n",
        "        visit.add(start)\n",
        "        while queue:\n",
        "            item = queue.pop(0)\n",
        "            if item not in visit:\n",
        "                queue += self.graph[item]\n",
        "                visit.add(item)\n",
        "        \n",
        "        keys = list(self.graph.keys())\n",
        "        if len(visit) == len(keys):\n",
        "            print(\"모든 네트워크가 연결되었습니다.\")\n",
        "        else:\n",
        "            for node in visit:\n",
        "                keys.remove(node)\n",
        "            print(keys, \" 네트워크가 연결이 필요합니다.\")\n",
        "            \n",
        "bfs = BFS(korea)\n",
        "bfs.minPath('부산', '평양')\n",
        "bfs.check('서울')"
      ],
      "execution_count": 6,
      "outputs": [
        {
          "output_type": "stream",
          "text": [
            "{'부산': 'None', '여수': '부산', '울산': '부산', '광주': '여수', '독도': '울산', '대구': '울산', '세종': '광주', '강릉': '독도', '서울': '강릉', '인천': '서울', '평양': '서울'}\n",
            "모든 네트워크가 연결되었습니다.\n"
          ],
          "name": "stdout"
        }
      ]
    },
    {
      "cell_type": "code",
      "metadata": {
        "id": "HNIKVEzGkmcm",
        "colab_type": "code",
        "colab": {}
      },
      "source": [
        ""
      ],
      "execution_count": 0,
      "outputs": []
    }
  ]
}