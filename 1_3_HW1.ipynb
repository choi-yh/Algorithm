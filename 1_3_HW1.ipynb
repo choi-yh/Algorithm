{
  "nbformat": 4,
  "nbformat_minor": 0,
  "metadata": {
    "colab": {
      "name": "1-3 HW1.ipynb",
      "version": "0.3.2",
      "provenance": [],
      "collapsed_sections": [],
      "include_colab_link": true
    },
    "kernelspec": {
      "name": "python3",
      "display_name": "Python 3"
    }
  },
  "cells": [
    {
      "cell_type": "markdown",
      "metadata": {
        "id": "view-in-github",
        "colab_type": "text"
      },
      "source": [
        "<a href=\"https://colab.research.google.com/github/choi-yh/Algorithm/blob/master/1_3_HW1.ipynb\" target=\"_parent\"><img src=\"https://colab.research.google.com/assets/colab-badge.svg\" alt=\"Open In Colab\"/></a>"
      ]
    },
    {
      "cell_type": "markdown",
      "metadata": {
        "id": "DA95XdRzqnld",
        "colab_type": "text"
      },
      "source": [
        "### 노래 가사에서 특정 단어를 찾는 프로그램을 이진탐색을 활용하여 작성하시오."
      ]
    },
    {
      "cell_type": "markdown",
      "metadata": {
        "id": "zgLPFPwYrT11",
        "colab_type": "text"
      },
      "source": [
        "\n",
        "\n",
        "1.   text 정렬 (소문자, split, sort, set)\n",
        "2.   단어 비교하는 함수 만들기 (ASCII 코드 활용)\n",
        "3.   루프 돌면서 Binary Searching & Counting\n",
        "\n",
        "\n",
        "---\n",
        "\n",
        "2-1) 두 단어 입력받기  \n",
        "2-2) 단어 하나씩 ASCII 코드로 비교 (a:97 ~ z:122)  \n",
        "2-3) 작으면 True, 크면 False로 표기, 같으면 None  \n",
        "\n",
        "\n",
        "---\n",
        "\n",
        "3- 루프 돌리면서 이진 탐색 (text[cidx] 활용)\n",
        "\n",
        "\n",
        "---\n",
        "\n",
        "몇번 만에? $\\Rightarrow$ count로 저장  \n",
        "\n"
      ]
    },
    {
      "cell_type": "code",
      "metadata": {
        "id": "u9Kus1-orYAn",
        "colab_type": "code",
        "colab": {}
      },
      "source": [
        "# 텍스트 입력 받아서 정리하기\n",
        "\n",
        "text = \"Why does the sun go on shining? Why does the sea rush to shore? Don't they know it's the end of the world? Cause you don't love me anymore Why do the birds go on singing?\"\n",
        "text += \" Why do the stars glow above? Don't they know it's the end of the world? It ended when I lost your love I wake up in the morning and I wonder Why everything's the same as it was\"\n",
        "text += \" I can't understand, no, I can't understand How life goes on the way it does Why does my heart go on beating? Why do these eyes of mine cry? Don't they know it's the end of the world?\"\n",
        "text += \" It ended when you said goodbye Why does my heart go on beating? Why do these eyes of mine cry? Don't they know it's the end of the world? It ended when you said goodbye\"\n",
        "\n",
        "text.lower()\n",
        "text = set(text.split())\n",
        "text = list(text)\n",
        "text.sort()"
      ],
      "execution_count": 0,
      "outputs": []
    },
    {
      "cell_type": "code",
      "metadata": {
        "id": "_MSDLDq5rfYk",
        "colab_type": "code",
        "colab": {
          "base_uri": "https://localhost:8080/",
          "height": 35
        },
        "outputId": "7517bde7-a03e-4a28-d1ce-0620fde76dd8"
      },
      "source": [
        "# 단어 순서 비교하는 함수 만들기\n",
        "# 한 단어가 길이가 짧은데 거기까지 같은 경우는 안 만들었네?\n",
        "\n",
        "def stringOrder(s1, s2):\n",
        "    m = len(s1)\n",
        "    n = len(s2)\n",
        "    for i in range(min(m, n)):\n",
        "        if ord(s1[i]) < ord(s2[i]):\n",
        "            return True\n",
        "        elif ord(s1[i]) > ord(s2[i]):\n",
        "            return False\n",
        "    \n",
        "    if m < n:\n",
        "        return True\n",
        "    elif m > n:\n",
        "        return False\n",
        "    else:\n",
        "        return None\n",
        "        \n",
        "stringOrder(\"split\", \"spliting\")"
      ],
      "execution_count": 2,
      "outputs": [
        {
          "output_type": "execute_result",
          "data": {
            "text/plain": [
              "True"
            ]
          },
          "metadata": {
            "tags": []
          },
          "execution_count": 2
        }
      ]
    },
    {
      "cell_type": "code",
      "metadata": {
        "id": "gHM3E2dbrjO8",
        "colab_type": "code",
        "colab": {
          "base_uri": "https://localhost:8080/",
          "height": 126
        },
        "outputId": "0f37b042-d522-4e97-d3c8-31fb03cfe002"
      },
      "source": [
        "# 이진탐색으로 탐색하기\n",
        "# 교수님은 text를 복사해서 리스트 자체를 반으로 쪼개는 알고리즘을 사용하심\n",
        "\n",
        "words = text[:]\n",
        "search = \"understand\"\n",
        "cnt = 0\n",
        "\n",
        "\n",
        "while len(words) > 1:\n",
        "    mididx = len(words) // 2\n",
        "    if words[mididx] == search:\n",
        "        print(search, \"를 %d 회 만에 찾았습니다.\" % (cnt))\n",
        "        break\n",
        "    else:\n",
        "        print(words[mididx], cnt)\n",
        "        if stringOrder(words[mididx], search) == True:\n",
        "            words = words[mididx:]\n",
        "        else:\n",
        "            words = words[:mididx]\n",
        "        cnt += 1"
      ],
      "execution_count": 3,
      "outputs": [
        {
          "output_type": "stream",
          "text": [
            "love 0\n",
            "sun 1\n",
            "wake 2\n",
            "to 3\n",
            "understand, 4\n",
            "understand 를 5 회 만에 찾았습니다.\n"
          ],
          "name": "stdout"
        }
      ]
    },
    {
      "cell_type": "code",
      "metadata": {
        "id": "yjCCK_ULrmwR",
        "colab_type": "code",
        "colab": {}
      },
      "source": [
        ""
      ],
      "execution_count": 0,
      "outputs": []
    }
  ]
}