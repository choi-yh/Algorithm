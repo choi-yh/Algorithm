{
  "nbformat": 4,
  "nbformat_minor": 0,
  "metadata": {
    "colab": {
      "name": "1-2 Binary Search.ipynb",
      "version": "0.3.2",
      "provenance": [],
      "collapsed_sections": [],
      "include_colab_link": true
    },
    "kernelspec": {
      "name": "python3",
      "display_name": "Python 3"
    }
  },
  "cells": [
    {
      "cell_type": "markdown",
      "metadata": {
        "id": "view-in-github",
        "colab_type": "text"
      },
      "source": [
        "<a href=\"https://colab.research.google.com/github/choi-yh/Algorithm/blob/master/1_2_Binary_Search.ipynb\" target=\"_parent\"><img src=\"https://colab.research.google.com/assets/colab-badge.svg\" alt=\"Open In Colab\"/></a>"
      ]
    },
    {
      "cell_type": "markdown",
      "metadata": {
        "id": "abxzyW4FnrmQ",
        "colab_type": "text"
      },
      "source": [
        "* 자료가 존재할 수 있는 범위 a, b를 지정하고 범위를 반으로 나눈다.\n",
        "\n",
        "* 찾고자 하는 자료가 나눈 두 개의 그룹 중에 어디에 있는지를 판단하여 하나를 선택하고 나머지는 버린다.\n",
        "\n",
        "* 이렇게 반씩 나누어 찾고자 하는 자료가 없는 그룹을 버리는 방법이 이진탐색이다."
      ]
    },
    {
      "cell_type": "code",
      "metadata": {
        "id": "OyOUOWh9oe1j",
        "colab_type": "code",
        "colab": {
          "base_uri": "https://localhost:8080/",
          "height": 144
        },
        "outputId": "49000af2-0a9c-4a96-ae1b-a6daf9bee19f"
      },
      "source": [
        "x = int(input(\"0~100 사이의 정수를 입력하세요: \"))\n",
        "a = 0\n",
        "b = 100\n",
        "m = (a + b) / 2\n",
        "\n",
        "cnt = 0\n",
        "while True:\n",
        "    cnt += 1\n",
        "    if x > m: # 찾는 수가 pivot 이후일 때\n",
        "        a = m\n",
        "        m = (a + b) // 2\n",
        "    elif x < m: # 찾는 수가 pivot 이전일 때\n",
        "        b = m\n",
        "        m = (a + b) // 2\n",
        "    else:\n",
        "        print(\"%d 를 %d번만에 찾았습니다.\" %(x, cnt))\n",
        "        break\n",
        "    print(a,m,b)    "
      ],
      "execution_count": 1,
      "outputs": [
        {
          "output_type": "stream",
          "text": [
            "0~100 사이의 정수를 입력하세요: 32\n",
            "0 25.0 50.0\n",
            "25.0 37.0 50.0\n",
            "25.0 31.0 37.0\n",
            "31.0 34.0 37.0\n",
            "31.0 32.0 34.0\n",
            "32 를 6번만에 찾았습니다.\n"
          ],
          "name": "stdout"
        }
      ]
    },
    {
      "cell_type": "code",
      "metadata": {
        "id": "GODTGD53oitk",
        "colab_type": "code",
        "colab": {}
      },
      "source": [
        ""
      ],
      "execution_count": 0,
      "outputs": []
    }
  ]
}