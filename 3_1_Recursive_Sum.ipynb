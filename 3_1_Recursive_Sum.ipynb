{
  "nbformat": 4,
  "nbformat_minor": 0,
  "metadata": {
    "colab": {
      "name": "3-1 Recursive Sum.ipynb",
      "version": "0.3.2",
      "provenance": [],
      "collapsed_sections": [],
      "include_colab_link": true
    },
    "kernelspec": {
      "name": "python3",
      "display_name": "Python 3"
    }
  },
  "cells": [
    {
      "cell_type": "markdown",
      "metadata": {
        "id": "view-in-github",
        "colab_type": "text"
      },
      "source": [
        "<a href=\"https://colab.research.google.com/github/choi-yh/Algorithm/blob/master/3_1_Recursive_Sum.ipynb\" target=\"_parent\"><img src=\"https://colab.research.google.com/assets/colab-badge.svg\" alt=\"Open In Colab\"/></a>"
      ]
    },
    {
      "cell_type": "markdown",
      "metadata": {
        "id": "fNij74LUMu77",
        "colab_type": "text"
      },
      "source": [
        "* 루프와 재귀와의 시간 비교\n",
        "* 큰 값 $\\Rightarrow$ divide and conquer 방법 사용하기\n",
        "* Good Algorithm : 계산량 $\\downarrow$, 근사치라도 계산하기"
      ]
    },
    {
      "cell_type": "markdown",
      "metadata": {
        "id": "lu_2B51dLxVn",
        "colab_type": "text"
      },
      "source": [
        " * **rSum**\n",
        "\n",
        "    rSum(100) : 100 + (1 + 2 + $\\cdots$ + 99)  \n",
        "    rSum(99) : 99 + (1 + 2 +  $\\cdots$ + 98)  \n",
        "    rSum(98) : 98 + (1 + 2 +  $\\cdots$ + 97)  \n",
        "    $\\qquad$$\\qquad$$\\qquad$ $\\vdots$  \n",
        "    rSum(2) : 2 + (1)  \n",
        "    rSum(1) : 1  \n"
      ]
    },
    {
      "cell_type": "markdown",
      "metadata": {
        "id": "Arc4WXrPMHFm",
        "colab_type": "text"
      },
      "source": [
        "* **dSum**\n",
        "\n",
        "    $f(n) = 1 + 2 + \\cdots + n$  \n",
        "    $\\qquad = 1 + 2 + \\cdots + \\frac{n}{2} + (\\frac{n}{2} + 1) + (\\frac{n}{2} + 2) + \\cdots +  (\\frac{n}{2} + \\frac{n}{2})$  \n",
        "    $\\qquad = 2(1 + 2 + \\cdots + \\frac{n}{2}) + \\frac{n}{2} \\cdot \\frac{n}{2} $  \n",
        "    $\\qquad = 2f(\\frac{n}{2}) + \\frac{n^2}{4}$  \n",
        "\n",
        "$n = 2k + 1$일 때, $\\ $ $f(2k+1) = (2k+1) + f(2k)$ 로 계산한다."
      ]
    },
    {
      "cell_type": "code",
      "metadata": {
        "id": "1t8oqqTxMI_m",
        "colab_type": "code",
        "colab": {
          "base_uri": "https://localhost:8080/",
          "height": 71
        },
        "outputId": "4afd32be-ddf9-46d0-b3a2-b9014243cece"
      },
      "source": [
        "import time\n",
        "import sys\n",
        "sys.setrecursionlimit(2000)\n",
        "\n",
        "def summ(n):\n",
        "    summ = 0\n",
        "    for i in range(1, n+1):\n",
        "        summ += i\n",
        "    return summ\n",
        "\n",
        "def rSum(n):\n",
        "    if n == 1:\n",
        "        return 1\n",
        "    else:\n",
        "        return n+rSum(n-1)\n",
        "\n",
        "def dSum(n):\n",
        "    if n == 1:\n",
        "        return 1\n",
        "    elif n > 1:\n",
        "        if n % 2 == 0:\n",
        "            return 2*dSum(int(n/2)) + n*n/4\n",
        "        else:\n",
        "            return n + dSum(n-1)\n",
        "\n",
        "n= 1000\n",
        "s = time.time()\n",
        "\n",
        "print(\"normal : \", summ(n), time.time()-s)\n",
        "\n",
        "s = time.time()\n",
        "print(\"rSum : \", rSum(n), time.time()-s)\n",
        "\n",
        "s = time.time()\n",
        "print(\"dSum : \", dSum(n), time.time()-s)"
      ],
      "execution_count": 1,
      "outputs": [
        {
          "output_type": "stream",
          "text": [
            "normal :  500500 6.771087646484375e-05\n",
            "rSum :  500500 0.0009610652923583984\n",
            "dSum :  500500.0 6.413459777832031e-05\n"
          ],
          "name": "stdout"
        }
      ]
    },
    {
      "cell_type": "code",
      "metadata": {
        "id": "TwrH1sY1MV6U",
        "colab_type": "code",
        "colab": {}
      },
      "source": [
        ""
      ],
      "execution_count": 0,
      "outputs": []
    }
  ]
}