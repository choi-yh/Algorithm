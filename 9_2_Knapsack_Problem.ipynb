{
  "nbformat": 4,
  "nbformat_minor": 0,
  "metadata": {
    "colab": {
      "name": "9-2 Knapsack Problem.ipynb",
      "version": "0.3.2",
      "provenance": [],
      "collapsed_sections": [],
      "include_colab_link": true
    },
    "kernelspec": {
      "name": "python3",
      "display_name": "Python 3"
    }
  },
  "cells": [
    {
      "cell_type": "markdown",
      "metadata": {
        "id": "view-in-github",
        "colab_type": "text"
      },
      "source": [
        "<a href=\"https://colab.research.google.com/github/choi-yh/Algorithm/blob/master/9_2_Knapsack_Problem.ipynb\" target=\"_parent\"><img src=\"https://colab.research.google.com/assets/colab-badge.svg\" alt=\"Open In Colab\"/></a>"
      ]
    },
    {
      "cell_type": "markdown",
      "metadata": {
        "id": "CdE3ehOvVZ4O",
        "colab_type": "text"
      },
      "source": [
        "* 행 : item 수, 열 : 배낭의 부피를 item 최소 부피 단위로 쪼개서 만든다.  \n",
        "(i: item, w: weight, cell[i, w]: item과 w의 부피제한을 만족하는 최대 가치)  \n",
        "* i 번째 물건이 w보다 크면 i번째 물건을 넣을 수 없으므로 cell[i, w] = cell[i-1, w] (cell[0, w]=0 (아이템이 없는 경우), cell[i, 0]=0 (배낭 부피가 0))  \n",
        "* i 번째 item이 w보다 크지 않을 경우  \n",
        "    : 현재 배낭의 가치와 현재 있는 물건을 빼고 i 번째 물건을 넣은 후 남은 공간에 들어갈 수 있는 최대 가치의 물건을 넣을 것인지 확인한다."
      ]
    },
    {
      "cell_type": "code",
      "metadata": {
        "id": "mEoZWN42V9ZJ",
        "colab_type": "code",
        "colab": {}
      },
      "source": [
        ""
      ],
      "execution_count": 0,
      "outputs": []
    }
  ]
}