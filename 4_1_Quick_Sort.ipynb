{
  "nbformat": 4,
  "nbformat_minor": 0,
  "metadata": {
    "colab": {
      "name": "4-1 Quick Sort.ipynb",
      "version": "0.3.2",
      "provenance": [],
      "collapsed_sections": [],
      "include_colab_link": true
    },
    "kernelspec": {
      "name": "python3",
      "display_name": "Python 3"
    }
  },
  "cells": [
    {
      "cell_type": "markdown",
      "metadata": {
        "id": "view-in-github",
        "colab_type": "text"
      },
      "source": [
        "<a href=\"https://colab.research.google.com/github/choi-yh/Algorithm/blob/master/4_1_Quick_Sort.ipynb\" target=\"_parent\"><img src=\"https://colab.research.google.com/assets/colab-badge.svg\" alt=\"Open In Colab\"/></a>"
      ]
    },
    {
      "cell_type": "markdown",
      "metadata": {
        "id": "obW9Qd1TSc2p",
        "colab_type": "text"
      },
      "source": [
        "* 시간 복잡도  \n",
        "\n",
        "    * **Best** : 나누었을 때, 좌측과 우측이 절반으로 나누어질 때  \n",
        "    $ n \\rightarrow n/2 * 2 \\rightarrow n/4 * 4 \\rightarrow \\cdots \\rightarrow 1*n $  \n",
        "    각 회마다 n 번 비교 $\\Rightarrow$ 총 비교회수 $O(nlog_{2} n)$  \n",
        "    \n",
        "    * **Worst** : 나누었을 때, 좌측에 1개, 우측에 n-2 개 존재하는 경우 (or 반대의 경우)  \n",
        "    $n \\rightarrow (n-1) \\rightarrow (n-2) \\rightarrow \\cdots \\rightarrow 1$  \n",
        "    $\\therefore O(n^2)$  \n",
        "    \n",
        "* 장점 : 속도가 빠르다. ($O(nlog_{2} n)$ 인 알고리즘 중 빠르다.)  \n",
        "    추가 메모리 공간이 필요없다. ($O(logn)$ 만큼의 메모리 필요)\n",
        "    \n",
        "* 단점 : 정렬된 리스트의 경우 pivot을 잘 못 잡으면 오래 걸린다. (데이터 중 크기가 중간인 것이 필요하다.)  "
      ]
    },
    {
      "cell_type": "markdown",
      "metadata": {
        "id": "o2t2fsTsPlHs",
        "colab_type": "text"
      },
      "source": [
        "* 알고리즘\n",
        "\n",
        "    Step 1: 정렬하고자 하는 리스트의 첫번째 원소를 pivot으로 하고 pivot보다 작은 원소와 큰 원소를 리스트 두개에 복사한다.  \n",
        "    \n",
        "    Step 2: 작은 원소 리스트와 큰 원소 리스트 복사본에 대하여 1을 반복한다. (재귀 사용)  \n",
        "    \n",
        "    Step 3: quickSort(left) + [pivot] + quickSort(right) 형식으로 return 한다."
      ]
    },
    {
      "cell_type": "code",
      "metadata": {
        "id": "7aj1Cr9mRLLy",
        "colab_type": "code",
        "colab": {
          "base_uri": "https://localhost:8080/",
          "height": 35
        },
        "outputId": "14ee3cb6-a12f-4be2-ca40-e0b6d318127c"
      },
      "source": [
        "# 퀵 정렬 작성\n",
        "\n",
        "def quickSort(x):\n",
        "    if len(x) <= 1:\n",
        "        return x\n",
        "    \n",
        "    pivot = x[0]\n",
        "    left = []\n",
        "    right = []\n",
        "    \n",
        "    for i in range(1, len(x)):\n",
        "        if x[i] < pivot:\n",
        "            left.append(x[i])\n",
        "        else:\n",
        "            right.append(x[i])\n",
        "    \n",
        "    return quickSort(left) + [pivot] + quickSort(right)\n",
        "\n",
        "x = [-7, 4, -3, 6, 3, -8, 3, 4]\n",
        "quickSort(x)"
      ],
      "execution_count": 1,
      "outputs": [
        {
          "output_type": "execute_result",
          "data": {
            "text/plain": [
              "[-8, -7, -3, 3, 3, 4, 4, 6]"
            ]
          },
          "metadata": {
            "tags": []
          },
          "execution_count": 1
        }
      ]
    },
    {
      "cell_type": "code",
      "metadata": {
        "id": "YjG9KczyTRjB",
        "colab_type": "code",
        "colab": {}
      },
      "source": [
        ""
      ],
      "execution_count": 0,
      "outputs": []
    }
  ]
}