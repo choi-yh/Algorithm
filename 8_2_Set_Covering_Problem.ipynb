{
  "nbformat": 4,
  "nbformat_minor": 0,
  "metadata": {
    "colab": {
      "name": "8-2 Set Covering Problem.ipynb",
      "version": "0.3.2",
      "provenance": [],
      "collapsed_sections": [],
      "include_colab_link": true
    },
    "kernelspec": {
      "name": "python3",
      "display_name": "Python 3"
    }
  },
  "cells": [
    {
      "cell_type": "markdown",
      "metadata": {
        "id": "view-in-github",
        "colab_type": "text"
      },
      "source": [
        "<a href=\"https://colab.research.google.com/github/choi-yh/Algorithm/blob/master/8_2_Set_Covering_Problem.ipynb\" target=\"_parent\"><img src=\"https://colab.research.google.com/assets/colab-badge.svg\" alt=\"Open In Colab\"/></a>"
      ]
    },
    {
      "cell_type": "markdown",
      "metadata": {
        "id": "l16igbrIIuXB",
        "colab_type": "text"
      },
      "source": [
        "* 전체집합과 그 집합의 부분집합들이 주어졌을 때, 부분집합들 중에서 가능한 한 적은 집합을 골라서 그 집합들의 합집합이 원래 전체집합이 되도로그 그 집합들이 원래 전체집합을 *덮도록* 집합을 선택하는 문제  \n",
        "\n",
        "* 모든 경우를 다지기에는 power set의 갯수를 따지는 것이기 때문에 경우가 많아진다.  \n",
        "\n",
        "* bit 연산을 이용하여 계산한다. (각 수를 0, 1)의 경우로 표현하여 계산한다."
      ]
    },
    {
      "cell_type": "markdown",
      "metadata": {
        "id": "DNIxB5YlJPzH",
        "colab_type": "text"
      },
      "source": [
        "* 방송국 커버리지 문제  \n",
        "\n",
        "* 주에 대한 모든 경우를 생각해보면 $2^{50}$ 개가 존재한다.\n",
        "\n",
        "    1. 현재 방송국-지역 딕셔너리에서 모든 방송국이 모든 지역을 커버하고 있는지 확인한다.  \n",
        "    2. 현재 남아있는 지역 중 가장 많은 지역을 포함할 수 있는 지역을 찾는다.  \n",
        "    3. 그 방송국이 커버하는 지역을 전체 지역 리스트에서 뺀다.\n",
        "    4. 방송국을 visit 리스트에 넣고 반복한다.  "
      ]
    },
    {
      "cell_type": "code",
      "metadata": {
        "id": "Rm3nuWCxJmc1",
        "colab_type": "code",
        "colab": {}
      },
      "source": [
        "states_needed = set(['mt','wa','or','id','nv','ut','ca','az'])\n",
        "stations = {}\n",
        "stations['one'] = set(['id','nv','ut'])\n",
        "stations['two'] = set(['wa','id','mt'])\n",
        "stations['three'] = set(['or','nv','ca'])\n",
        "stations['four'] = set(['nv','ut'])\n",
        "stations['five'] = set(['ca','az'])"
      ],
      "execution_count": 0,
      "outputs": []
    },
    {
      "cell_type": "code",
      "metadata": {
        "id": "9TFBcbzTJ3Fm",
        "colab_type": "code",
        "colab": {
          "base_uri": "https://localhost:8080/",
          "height": 35
        },
        "outputId": "7e1094d9-9616-42c7-8d92-8cd8742523f2"
      },
      "source": [
        "# 모든 방송국이 모든 지역을 커버하고 있는지 확인한다.\n",
        "\n",
        "check = set()\n",
        "for item in list(stations.keys()):\n",
        "    check.update(stations[item])\n",
        "    \n",
        "print(len(check) == len(states_needed))"
      ],
      "execution_count": 2,
      "outputs": [
        {
          "output_type": "stream",
          "text": [
            "True\n"
          ],
          "name": "stdout"
        }
      ]
    },
    {
      "cell_type": "code",
      "metadata": {
        "id": "sQmaGDFNJ_bF",
        "colab_type": "code",
        "colab": {
          "base_uri": "https://localhost:8080/",
          "height": 35
        },
        "outputId": "168e1507-de58-49df-e00d-c101144a198a"
      },
      "source": [
        "visit = []\n",
        "while len(states_needed) > 0:\n",
        "    Max = set()\n",
        "    for station, locations in stations.items():\n",
        "        covers = locations & states_needed\n",
        "        if len(covers) > len(Max):\n",
        "            best_station = station\n",
        "            Max = locations\n",
        "    states_needed -= Max\n",
        "    visit.append(best_station)\n",
        "print(visit)"
      ],
      "execution_count": 3,
      "outputs": [
        {
          "output_type": "stream",
          "text": [
            "['one', 'two', 'three', 'five']\n"
          ],
          "name": "stdout"
        }
      ]
    },
    {
      "cell_type": "code",
      "metadata": {
        "id": "1o1rTvxIKK91",
        "colab_type": "code",
        "colab": {}
      },
      "source": [
        ""
      ],
      "execution_count": 0,
      "outputs": []
    }
  ]
}