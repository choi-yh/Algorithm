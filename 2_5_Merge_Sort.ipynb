{
  "nbformat": 4,
  "nbformat_minor": 0,
  "metadata": {
    "colab": {
      "name": "2-5 Merge Sort.ipynb",
      "version": "0.3.2",
      "provenance": [],
      "collapsed_sections": [],
      "include_colab_link": true
    },
    "kernelspec": {
      "name": "python3",
      "display_name": "Python 3"
    }
  },
  "cells": [
    {
      "cell_type": "markdown",
      "metadata": {
        "id": "view-in-github",
        "colab_type": "text"
      },
      "source": [
        "<a href=\"https://colab.research.google.com/github/choi-yh/Algorithm/blob/master/2_5_Merge_Sort.ipynb\" target=\"_parent\"><img src=\"https://colab.research.google.com/assets/colab-badge.svg\" alt=\"Open In Colab\"/></a>"
      ]
    },
    {
      "cell_type": "markdown",
      "metadata": {
        "id": "R_NjG9l19bLr",
        "colab_type": "text"
      },
      "source": [
        "* Merge Sort는 **Divide and Conquer 알고리즘**으로 복잡한 내용을 작은 부분으로 쪼개서 작은 부분 $\\rightarrow$ 큰 부분으로 정복하는 방법이다.\n",
        "\n",
        "* **분할** 후, 작은 조각을 *병합하는 과*정에서 부분 정렬을 반복하여 정렬을 완성한다.  \n",
        "\n",
        "* **분할 순서:**\n",
        "    1.   반으로 나눌 위치 찾기. mid = len(alist) // 2\n",
        "    2.   mid를 기준으로 반으로 나누어 leftX, rightX에 저장한다.\n",
        "    3.   위 과정을 좌, 우측 원소가 하나가 될 때까지 반복한다.\n",
        "\n",
        "* 병합은 두 개의 리스트를 합치는데 각 리스트를 정렬한 후, 첫번째 원소를 비교해서 작은 값을 먼저 pop 하여 병합한다. (peek 해서 비교한 후 pop)  \n",
        "\n",
        "* 시간복잡도는 $T(n) = 2 \\cdot T(n/2) + c \\cdot n$   \n",
        "    (좌측은 두 개로 나누는 복잡도, 우측은 병합하는 복잡도)   \n",
        "\n",
        "* $T(n) = 2T(n/2) + c \\cdot n = 4T(n/4) + 2 \\cdot c \\cdot n = 8T(n/8) 3 \\cdot c \\cdot n = \\cdots$  \n",
        "\n",
        "* $n = 2^k$ 일 때, 일반항 $T(n) = 2^k \\cdot T(n/{2^k}) + k \\cdot c \\cdot n$ ,  \n",
        "    시간복잡도는 $nT(1) + c\\cdot n \\cdot log_{2} n = O(n) + O(nlogn)$ 이 성립한다."
      ]
    },
    {
      "cell_type": "code",
      "metadata": {
        "id": "YlFM1TS8_TTD",
        "colab_type": "code",
        "colab": {
          "base_uri": "https://localhost:8080/",
          "height": 35
        },
        "outputId": "3f0ebccb-a206-461d-b196-4d40d7641679"
      },
      "source": [
        "class Sort:\n",
        "    def __init__(self, x):\n",
        "        self.x = x\n",
        "        self.n = len(x)\n",
        "    \n",
        "    def _findMin(self, x, curIdx):\n",
        "        minIdx = curIdx\n",
        "        xMin = x[curIdx]\n",
        "        for i in range(curIdx, self.n):\n",
        "            if x[i] < xMin:\n",
        "                xMin = x[i]\n",
        "                minIdx = i\n",
        "        return minIdx\n",
        "    \n",
        "    def _exchange(self, x, i, j):\n",
        "        x[i], x[j] = x[j], x[i]\n",
        "        return x\n",
        "    \n",
        "        \n",
        "    def mergeSort(self):\n",
        "        return self._mergeSort(self.x)\n",
        "    \n",
        "    def _mergeSort(self, list):\n",
        "        \n",
        "        def _merge(a, b):\n",
        "            c = []\n",
        "            while len(a) > 0 and len(b) > 0:\n",
        "                if a[0] < b[0]:\n",
        "                    c.append(a.pop(0))\n",
        "                else:\n",
        "                    c.append(b.pop(0))\n",
        "            if len(a) > 0:\n",
        "                c.extend(a)\n",
        "            else:\n",
        "                c.extend(b)\n",
        "            return c\n",
        "        \n",
        "        midIdx = len(list) // 2\n",
        "        if len(list) <= 1:\n",
        "            return list\n",
        "        leftX = list[:midIdx]\n",
        "        rightX = list[midIdx:]\n",
        "        leftX = self._mergeSort(leftX)\n",
        "        rightX = self._mergeSort(rightX)\n",
        "        return _merge(leftX, rightX)\n",
        "        \n",
        "# 병합정렬 테스트\n",
        "\n",
        "x = [3, 7, 2, 1, 9, 8, 6] \n",
        "a = Sort(x)\n",
        "a.mergeSort()"
      ],
      "execution_count": 1,
      "outputs": [
        {
          "output_type": "execute_result",
          "data": {
            "text/plain": [
              "[1, 2, 3, 6, 7, 8, 9]"
            ]
          },
          "metadata": {
            "tags": []
          },
          "execution_count": 1
        }
      ]
    },
    {
      "cell_type": "code",
      "metadata": {
        "id": "ATlV678A_lhn",
        "colab_type": "code",
        "colab": {}
      },
      "source": [
        ""
      ],
      "execution_count": 0,
      "outputs": []
    }
  ]
}