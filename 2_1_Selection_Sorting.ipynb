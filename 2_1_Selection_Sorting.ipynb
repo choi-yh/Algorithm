{
  "nbformat": 4,
  "nbformat_minor": 0,
  "metadata": {
    "colab": {
      "name": "2-1 Selection Sorting.ipynb",
      "version": "0.3.2",
      "provenance": [],
      "collapsed_sections": [],
      "include_colab_link": true
    },
    "kernelspec": {
      "name": "python3",
      "display_name": "Python 3"
    }
  },
  "cells": [
    {
      "cell_type": "markdown",
      "metadata": {
        "id": "view-in-github",
        "colab_type": "text"
      },
      "source": [
        "<a href=\"https://colab.research.google.com/github/choi-yh/Algorithm/blob/master/2_1_Selection_Sorting.ipynb\" target=\"_parent\"><img src=\"https://colab.research.google.com/assets/colab-badge.svg\" alt=\"Open In Colab\"/></a>"
      ]
    },
    {
      "cell_type": "markdown",
      "metadata": {
        "id": "ZpS-0PgAr46x",
        "colab_type": "text"
      },
      "source": [
        "* 현재 위치 이후에서 배열의 최소값을 찾고 이를 맨 좌측과 바꾼다.\n",
        "\n",
        "* 현재 위치를 우측으로 한 칸 이동하여, 위의 과정을 반복한다.\n",
        "\n",
        "* 시간 복잡도는 $(n-1) + (n-2) + \\cdots + 2 + 1 = n(n-1)/2$ 회로 $O(n^2)$ 이다.  어떤 경우에나 비교회수는 같다."
      ]
    },
    {
      "cell_type": "markdown",
      "metadata": {
        "id": "JdhFI0O0tL9l",
        "colab_type": "text"
      },
      "source": [
        "* 알고리즘\n",
        "\n",
        "Step 1 : 배열에서 최소값을 찾아 배열의 맨 왼쪽 값과 위치를 바꾼다.  \n",
        "\n",
        "Step 2: 1에서 찾은 값을 제외하고 나머지 중 최소값을 찾아 왼쪽에서 두번째 위치와 바꾼다.  \n",
        "\n",
        "Step 3: 2를 나머지가 없을 때까지 반복한다.  \n",
        "\n",
        "최소값 찾는 메서드, 교환하는 메서드가 필요함  "
      ]
    },
    {
      "cell_type": "code",
      "metadata": {
        "id": "kRdLqZQnt-_s",
        "colab_type": "code",
        "colab": {
          "base_uri": "https://localhost:8080/",
          "height": 162
        },
        "outputId": "22d2ea01-47b1-4c66-fe67-3107a0098f56"
      },
      "source": [
        "class Sort:\n",
        "    def __init__(self, x):\n",
        "        self.x = x\n",
        "        self.n = len(x)\n",
        "    \n",
        "    def _findMin(self, x, curIdx):\n",
        "        minIdx = curIdx\n",
        "        xMin = x[curIdx]\n",
        "        for i in range(curIdx, self.n):\n",
        "            if x[i] < xMin:\n",
        "                xMin = x[i]\n",
        "                minIdx = i\n",
        "        return minIdx\n",
        "    \n",
        "    def _exchange(self, x, i, j):\n",
        "        if x[i] > x[j]:\n",
        "            x[i], x[j] = x[j], x[i]\n",
        "        return x\n",
        "        \n",
        "    def selectionSort(self):\n",
        "        for idx in range(self.n):\n",
        "            minIdx = self._findMin(self.x, idx)\n",
        "            minItem = self.x[minIdx]\n",
        "            self._exchange(self.x, idx, minIdx)\n",
        "            print(self.x)\n",
        "        return self.x\n",
        "    \n",
        "# 선택정렬 테스트\n",
        "\n",
        "x = [3, 7, 2, 1, 9, 8, 6] \n",
        "a = Sort(x)\n",
        "a.selectionSort()"
      ],
      "execution_count": 3,
      "outputs": [
        {
          "output_type": "stream",
          "text": [
            "[1, 7, 2, 3, 9, 8, 6]\n",
            "[1, 2, 7, 3, 9, 8, 6]\n",
            "[1, 2, 3, 7, 9, 8, 6]\n",
            "[1, 2, 3, 6, 9, 8, 7]\n",
            "[1, 2, 3, 6, 7, 8, 9]\n",
            "[1, 2, 3, 6, 7, 8, 9]\n",
            "[1, 2, 3, 6, 7, 8, 9]\n"
          ],
          "name": "stdout"
        },
        {
          "output_type": "execute_result",
          "data": {
            "text/plain": [
              "[1, 2, 3, 6, 7, 8, 9]"
            ]
          },
          "metadata": {
            "tags": []
          },
          "execution_count": 3
        }
      ]
    },
    {
      "cell_type": "code",
      "metadata": {
        "id": "E8I8lupCueDT",
        "colab_type": "code",
        "colab": {}
      },
      "source": [
        ""
      ],
      "execution_count": 0,
      "outputs": []
    }
  ]
}