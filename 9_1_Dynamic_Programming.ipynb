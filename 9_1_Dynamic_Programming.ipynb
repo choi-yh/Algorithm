{
  "nbformat": 4,
  "nbformat_minor": 0,
  "metadata": {
    "colab": {
      "name": "9-1 Dynamic Programming.ipynb",
      "version": "0.3.2",
      "provenance": [],
      "collapsed_sections": [],
      "include_colab_link": true
    },
    "kernelspec": {
      "name": "python3",
      "display_name": "Python 3"
    }
  },
  "cells": [
    {
      "cell_type": "markdown",
      "metadata": {
        "id": "view-in-github",
        "colab_type": "text"
      },
      "source": [
        "<a href=\"https://colab.research.google.com/github/choi-yh/Algorithm/blob/master/9_1_Dynamic_Programming.ipynb\" target=\"_parent\"><img src=\"https://colab.research.google.com/assets/colab-badge.svg\" alt=\"Open In Colab\"/></a>"
      ]
    },
    {
      "cell_type": "markdown",
      "metadata": {
        "id": "uPCCVOsAQE0n",
        "colab_type": "text"
      },
      "source": [
        "* Divide and conquer 처럼 작은 문제로부터 큰 문제를 해결하는 방법이다.  \n",
        "* **memorization** 사용 : 한번 계산한 값을 *캐시 메모리* 에 저장했다가 다음에 다시 불러서 사용한다."
      ]
    },
    {
      "cell_type": "markdown",
      "metadata": {
        "id": "z6FBP9whQYLx",
        "colab_type": "text"
      },
      "source": [
        "* Fibonacci Series\n",
        "    * cache 에 내용을 저장한다.\n",
        "    * 기존의 $f(3) = f(2) + f(1)$ 의 Top down 방식에서 $\\Rightarrow$ Bottom UP 방식으로 계산한다. (작은 단위를 이용해 전체를 계산한다.)"
      ]
    },
    {
      "cell_type": "markdown",
      "metadata": {
        "id": "7V09Stu3QwD-",
        "colab_type": "text"
      },
      "source": [
        "$n! = a \\Rightarrow log(n!) = log(a) \\Rightarrow \\sum_{i=1}^n log(i) = \\Box \\Rightarrow a=e^\\Box$  \n",
        "(큰 단위 수의 곱 $\\Rightarrow$ 로그를 이용하여 분해한다.)"
      ]
    },
    {
      "cell_type": "code",
      "metadata": {
        "id": "h9IZhf5jRU1N",
        "colab_type": "code",
        "colab": {}
      },
      "source": [
        ""
      ],
      "execution_count": 0,
      "outputs": []
    }
  ]
}