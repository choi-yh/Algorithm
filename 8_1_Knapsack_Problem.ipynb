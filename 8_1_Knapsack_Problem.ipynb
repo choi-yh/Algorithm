{
  "nbformat": 4,
  "nbformat_minor": 0,
  "metadata": {
    "colab": {
      "name": "8-1 Knapsack Problem.ipynb",
      "version": "0.3.2",
      "provenance": [],
      "collapsed_sections": [],
      "include_colab_link": true
    },
    "kernelspec": {
      "name": "python3",
      "display_name": "Python 3"
    }
  },
  "cells": [
    {
      "cell_type": "markdown",
      "metadata": {
        "id": "view-in-github",
        "colab_type": "text"
      },
      "source": [
        "<a href=\"https://colab.research.google.com/github/choi-yh/Algorithm/blob/master/8_1_Knapsack_Problem.ipynb\" target=\"_parent\"><img src=\"https://colab.research.google.com/assets/colab-badge.svg\" alt=\"Open In Colab\"/></a>"
      ]
    },
    {
      "cell_type": "markdown",
      "metadata": {
        "id": "DjfREo_NHKc2",
        "colab_type": "text"
      },
      "source": [
        "* 배낭에 담을 수 있는 무게는 정해져있고, 일정 가치와 무게가 있는 짐들을 가방에 넣을 때, 가치의 합이 최대가 되도록 짐을 고르는 방법\n",
        "\n",
        "* 짐을 쪼갤 수 있는 경우 (무게가 소수) $\\Rightarrow$ 분할 가능 배낭문제 (greedy) $\\Rightarrow$ 단위 무게당 가치가 큰 짐을 순간마다 최적의 선택을 하여 전체 최적해를 구한다.  \n",
        "\n",
        "* 짐을 쪼갤 수 없는 경우 (무게가 0 이상의 정수) $\\Rightarrow$ 0-1 배낭문제 (Dynamic) $\\Rightarrow$ 모든 조합을 따져보고 가치 합이 최대가 되는 조합을 찾기  \n",
        "\n",
        "* all-possible 한 경우를 따져본다."
      ]
    },
    {
      "cell_type": "code",
      "metadata": {
        "id": "UwxkNDODIQ2n",
        "colab_type": "code",
        "colab": {}
      },
      "source": [
        ""
      ],
      "execution_count": 0,
      "outputs": []
    }
  ]
}