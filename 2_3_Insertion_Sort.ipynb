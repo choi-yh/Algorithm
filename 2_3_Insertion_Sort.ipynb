{
  "nbformat": 4,
  "nbformat_minor": 0,
  "metadata": {
    "colab": {
      "name": "2-3 Insertion Sort.ipynb",
      "version": "0.3.2",
      "provenance": [],
      "collapsed_sections": [],
      "include_colab_link": true
    },
    "kernelspec": {
      "name": "python3",
      "display_name": "Python 3"
    }
  },
  "cells": [
    {
      "cell_type": "markdown",
      "metadata": {
        "id": "view-in-github",
        "colab_type": "text"
      },
      "source": [
        "<a href=\"https://colab.research.google.com/github/choi-yh/Algorithm/blob/master/2_3_Insertion_Sort.ipynb\" target=\"_parent\"><img src=\"https://colab.research.google.com/assets/colab-badge.svg\" alt=\"Open In Colab\"/></a>"
      ]
    },
    {
      "cell_type": "markdown",
      "metadata": {
        "id": "R9UXeOOB44mN",
        "colab_type": "text"
      },
      "source": [
        "* i 번째 위치를 기준으로 좌측은 정렬이 완료된 부분, 우측은 정렬이 완료되지 않은 부분으로 구분한다.  \n",
        "\n",
        "* 시간복잡도는 $O(n^2)$ (소트되어 있는 경우엔 $O(n)$)  "
      ]
    },
    {
      "cell_type": "markdown",
      "metadata": {
        "id": "HMIt88hE5J3e",
        "colab_type": "text"
      },
      "source": [
        "* 알고리즘\n",
        "\n",
        "    Step 1: i 번째 값을 좌측 적절한 위치에 삽입한다. ( pivot에서 왼쪽으로 이동해가며 비교한다 (indexing을 -1씩))   \n",
        "    현재 위치를 i+1로 바꾼다.  \n",
        "\n",
        "    Step 2: 현재 위치가 마지막이 될 때까지 반복한다.  "
      ]
    },
    {
      "cell_type": "code",
      "metadata": {
        "id": "dqcv5sMR5n-u",
        "colab_type": "code",
        "outputId": "3127cd9c-6b97-4e46-febd-7c9e4a97e42e",
        "colab": {
          "base_uri": "https://localhost:8080/",
          "height": 144
        }
      },
      "source": [
        "class Sort:\n",
        "    def __init__(self, x):\n",
        "        self.x = x\n",
        "        self.n = len(x)\n",
        "    \n",
        "    def _findMin(self, x, curIdx):\n",
        "        minIdx = curIdx\n",
        "        xMin = x[curIdx]\n",
        "        for i in range(curIdx, self.n):\n",
        "            if x[i] < xMin:\n",
        "                xMin = x[i]\n",
        "                minIdx = i\n",
        "        return minIdx\n",
        "    \n",
        "    def _exchange(self, x, i, j):\n",
        "        x[i], x[j] = x[j], x[i]\n",
        "        return x\n",
        "\n",
        "    \n",
        "    def insertionSort(self):\n",
        "        pivot = 1\n",
        "        while pivot < self.n:\n",
        "            for i in range(pivot, 0, -1):\n",
        "                if self.x[i] < self.x[i-1]:\n",
        "                    self._exchange(self.x, i, i-1)\n",
        "            print(self.x, pivot)\n",
        "            pivot += 1\n",
        "        return self.x\n",
        "\n",
        "    \n",
        "# 삽입정렬 테스트\n",
        "\n",
        "x = [3, 7, 2, 1, 9, 8, 6] \n",
        "a = Sort(x)\n",
        "a.insertionSort()"
      ],
      "execution_count": 0,
      "outputs": [
        {
          "output_type": "stream",
          "text": [
            "[3, 7, 2, 1, 9, 8, 6] 1\n",
            "[2, 3, 7, 1, 9, 8, 6] 2\n",
            "[1, 2, 3, 7, 9, 8, 6] 3\n",
            "[1, 2, 3, 7, 9, 8, 6] 4\n",
            "[1, 2, 3, 7, 8, 9, 6] 5\n",
            "[1, 2, 3, 6, 7, 8, 9] 6\n"
          ],
          "name": "stdout"
        },
        {
          "output_type": "execute_result",
          "data": {
            "text/plain": [
              "[1, 2, 3, 6, 7, 8, 9]"
            ]
          },
          "metadata": {
            "tags": []
          },
          "execution_count": 2
        }
      ]
    },
    {
      "cell_type": "code",
      "metadata": {
        "id": "zLQWYAAh5z2l",
        "colab_type": "code",
        "colab": {}
      },
      "source": [
        ""
      ],
      "execution_count": 0,
      "outputs": []
    }
  ]
}