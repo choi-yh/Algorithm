{
  "nbformat": 4,
  "nbformat_minor": 0,
  "metadata": {
    "colab": {
      "name": "8-3 NP-complete.ipynb",
      "version": "0.3.2",
      "provenance": [],
      "collapsed_sections": [],
      "include_colab_link": true
    },
    "kernelspec": {
      "name": "python3",
      "display_name": "Python 3"
    }
  },
  "cells": [
    {
      "cell_type": "markdown",
      "metadata": {
        "id": "view-in-github",
        "colab_type": "text"
      },
      "source": [
        "<a href=\"https://colab.research.google.com/github/choi-yh/Algorithm/blob/master/8_3_NP_complete.ipynb\" target=\"_parent\"><img src=\"https://colab.research.google.com/assets/colab-badge.svg\" alt=\"Open In Colab\"/></a>"
      ]
    },
    {
      "cell_type": "markdown",
      "metadata": {
        "id": "5mjdzTxkKeUl",
        "colab_type": "text"
      },
      "source": [
        "* 근사 알고리즘  \n",
        "    * 정확한 답을 알 수 없는 NP 문제 (최적화 문제)에 대한 해의 근삿값을 구하는 알고리즘  \n",
        "    * greedy 알고리즘을 이용한다. ($O(n^2)$ optimal 한지는 모른다.)  \n",
        "    * 하나씩 최적해를 구해간다."
      ]
    },
    {
      "cell_type": "markdown",
      "metadata": {
        "id": "tut_lDTXLFrU",
        "colab_type": "text"
      },
      "source": [
        "* P 문제 (Polynomial Problem)\n",
        "    * $O(n), O(n^2), \\cdots $ 과 같이 다항식 시간 이내에 문제의 답을 구할 수 있는 알고리즘이 있을 때를 말한다.  \n",
        "    * Probability 하다. (값이 일정하게 나온다.)\n",
        "    * 컴퓨터 성능으로 해결가능하다.  "
      ]
    },
    {
      "cell_type": "markdown",
      "metadata": {
        "id": "uAWM08tVLZMz",
        "colab_type": "text"
      },
      "source": [
        "* NP 문제 (Non Deterministic Polynomial Problem)\n",
        "    * 운에 따라 p 문제일 수도 있고 아닐수도 있는 문제 (운에 따라 해결 가능할수도 있고 아닐수도 있음)\n",
        "    * 모든 P 문제는 NP 문제에 포함된다.\n",
        "    * NP 클래스 문제들은 P 문제가 아니지만 P 와의 경계 가까이에 있는 문제들이다.   \n",
        "    즉, 아직 찾지는 못했지만 현실적인 알고리즘이 있을 것만 같은 문제들이다. \n",
        "    * 예 : 미로찾기 문제\n",
        "    * NP-complete 문제 : NP 중에서 가장 어려운 문제들 (외판원이 방문 판매를 할 때의 최단 경로가 무엇인가? - $n!$)  \n",
        "    (NP 완전문제인지 아는 것이 어렵다. $\\Rightarrow$ 안다면 탐욕 알고리즘으로 해결가능)  \n",
        "    "
      ]
    },
    {
      "cell_type": "markdown",
      "metadata": {
        "id": "pzTEacKnL0lT",
        "colab_type": "text"
      },
      "source": [
        "* **동전 거슬러주기** : 지불할 돈이 있을 때, 동전의 개수를 최소화 하도록 동전을 거슬러주는 알고리즘  \n",
        "    1. 거스름돈보다 작은 동전 중 가장 큰 단위의 동전을 선택하여 거스름돈에 추가하고 거스름돈에서 액수를 감한다.  \n",
        "    2. 1을 반복한다."
      ]
    },
    {
      "cell_type": "code",
      "metadata": {
        "id": "-mFcnBCiMgUi",
        "colab_type": "code",
        "outputId": "2d7279ae-a8c5-47db-95e7-7b24fae1318a",
        "colab": {
          "base_uri": "https://localhost:8080/",
          "height": 53
        }
      },
      "source": [
        "coin = [500,100,50,10,1]\n",
        "\n",
        "remains = int(input(\"잔돈을 입력하세요: \"))\n",
        "return_coin = []\n",
        "\n",
        "while remains > 0:\n",
        "    for val in coin:\n",
        "        if val <= remains:\n",
        "            return_coin.append(val)\n",
        "            remains -= val\n",
        "            break\n",
        "print(return_coin)"
      ],
      "execution_count": 0,
      "outputs": [
        {
          "output_type": "stream",
          "text": [
            "잔돈을 입력하세요: 5190\n",
            "[500, 500, 500, 500, 500, 500, 500, 500, 500, 500, 100, 50, 10, 10, 10, 10]\n"
          ],
          "name": "stdout"
        }
      ]
    },
    {
      "cell_type": "markdown",
      "metadata": {
        "id": "GmWAtx_eMhST",
        "colab_type": "text"
      },
      "source": [
        "* 회의실 배정문제\n",
        "    1. 끝나는 시간을 기준으로 가장 먼저 끝나는 회의실을 찾아 먼저 배정한다.  \n",
        "    2. 그 시간 이후, 시작하는 회의 중에 가장 먼저 끝나는 회의실을 다음으로 배정한다."
      ]
    },
    {
      "cell_type": "code",
      "metadata": {
        "id": "rNLL0jA1Msoi",
        "colab_type": "code",
        "outputId": "5a815b59-d3fb-4f0b-feec-c3d92866091b",
        "colab": {
          "base_uri": "https://localhost:8080/",
          "height": 215
        }
      },
      "source": [
        "# 회의실 배정 알고리즘\n",
        "\n",
        "import numpy as np\n",
        "\n",
        "times = np.array([[3, 5], [1, 4], [0, 6], [5, 7], [3, 8], [5, 9], [6, 10], [8, 11], [8, 12], [2, 13], [12, 14]]) # [시작시간, 끝시간]\n",
        "times = times[times[:, 1].argsort()]\n",
        "times\n"
      ],
      "execution_count": 0,
      "outputs": [
        {
          "output_type": "execute_result",
          "data": {
            "text/plain": [
              "array([[ 1,  4],\n",
              "       [ 3,  5],\n",
              "       [ 0,  6],\n",
              "       [ 5,  7],\n",
              "       [ 3,  8],\n",
              "       [ 5,  9],\n",
              "       [ 6, 10],\n",
              "       [ 8, 11],\n",
              "       [ 8, 12],\n",
              "       [ 2, 13],\n",
              "       [12, 14]])"
            ]
          },
          "metadata": {
            "tags": []
          },
          "execution_count": 2
        }
      ]
    },
    {
      "cell_type": "code",
      "metadata": {
        "id": "BxhfMsArMtVD",
        "colab_type": "code",
        "outputId": "269de2ca-086b-4c36-d20b-376b9fca1290",
        "colab": {
          "base_uri": "https://localhost:8080/",
          "height": 35
        }
      },
      "source": [
        "curTime = 0\n",
        "room = []\n",
        "\n",
        "for time in times:\n",
        "    if curTime < time[0]:\n",
        "        room.append(time)\n",
        "        curTime = time[1]\n",
        "print(room)"
      ],
      "execution_count": 0,
      "outputs": [
        {
          "output_type": "stream",
          "text": [
            "[array([1, 4]), array([5, 7]), array([ 8, 11]), array([12, 14])]\n"
          ],
          "name": "stdout"
        }
      ]
    },
    {
      "cell_type": "code",
      "metadata": {
        "id": "fBViVPo3Mu4S",
        "colab_type": "code",
        "colab": {}
      },
      "source": [
        ""
      ],
      "execution_count": 0,
      "outputs": []
    }
  ]
}