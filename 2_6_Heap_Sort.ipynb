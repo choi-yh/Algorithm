{
  "nbformat": 4,
  "nbformat_minor": 0,
  "metadata": {
    "colab": {
      "name": "2-6 Heap Sort.ipynb",
      "version": "0.3.2",
      "provenance": [],
      "collapsed_sections": [],
      "include_colab_link": true
    },
    "kernelspec": {
      "name": "python3",
      "display_name": "Python 3"
    }
  },
  "cells": [
    {
      "cell_type": "markdown",
      "metadata": {
        "id": "view-in-github",
        "colab_type": "text"
      },
      "source": [
        "<a href=\"https://colab.research.google.com/github/choi-yh/Algorithm/blob/master/2_6_Heap_Sort.ipynb\" target=\"_parent\"><img src=\"https://colab.research.google.com/assets/colab-badge.svg\" alt=\"Open In Colab\"/></a>"
      ]
    },
    {
      "cell_type": "markdown",
      "metadata": {
        "id": "CFpyJt98AG2W",
        "colab_type": "text"
      },
      "source": [
        "* Heap을 이용하여 정렬하는 알고리즘\n",
        "\n",
        "* **최소 힙** : 부모 노드는 반드시 자식 노드보다 작거나 같다.\n",
        "\n",
        "* **최대 힙** : 부모 노드가 자식 노드보가 크거나 같다.\n",
        "\n",
        "* 힙의 깊이는 $log_{2} (n+1)$ 이다.  \n",
        "\n",
        "* 힙 삽입을 위해서는 마지막 노드에 자료 삽입 후, heapify 연산을 $log_{2} (n+1)$ 번 수행한다.  \n",
        "    (하나의 값을 힙에 삽입하는데 걸리는 시간복잡도는 $O(log_{2} n)$) (데이터 삽입은 오래 걸리지만 출력 시간은 짧다.)\n",
        "    \n",
        "* 요소의 개수가 n개 이므로 전체적으로 $O(nlog_{2} n)$의 시간이 걸린다.  "
      ]
    },
    {
      "cell_type": "markdown",
      "metadata": {
        "id": "Eo9Prt-UBszO",
        "colab_type": "text"
      },
      "source": [
        "* 힙 삽입 : 마지막 노드에 자료를 삽입하고, heapify 연산을 $log_{2} (n+1)$ 번 수행한다.  \n",
        "    $\\Rightarrow$ 하나의 값을 삽입하는데 시간복잡도는 $O(log_{2} n)$  \n",
        "    \n",
        "* pindex (부모 인덱스) = cindex (자식 인덱스) // 2,  \n",
        "    lcidx = pidx * 2, rcidx = pidx * 2 + 1\n",
        "    \n",
        "* pop 연산:\n",
        "    1.   x[i]와 마지막 노드의 자리를 바꾼다.\n",
        "    2.   마지막 노드를 삭제한다. (값은 임시 변수에 저장하고 리스트 삭제 연산을 이용해 삭제)\n",
        "    3. heapify\n",
        "\n",
        "* 전체적인 시간복잡도는 n개 요소가 있기 때문에 $O(nlog_{2} n)$\n",
        "\n",
        "* heapify : 힙 구조를 맞춰줌 (child가 양쪽에 있으면 둘 중 큰 값을 구해서 바꿔준다.)\n",
        "\n"
      ]
    },
    {
      "cell_type": "markdown",
      "metadata": {
        "id": "ITwBMrG7CpGM",
        "colab_type": "text"
      },
      "source": [
        "* **Heap Sort**  \n",
        "    Min Heap을 이용하여 삽입한 후 하나씩 pop하면 정렬이 된다."
      ]
    },
    {
      "cell_type": "code",
      "metadata": {
        "id": "SfPUl9AOBAbm",
        "colab_type": "code",
        "colab": {
          "base_uri": "https://localhost:8080/",
          "height": 90
        },
        "outputId": "035bb6ed-bde8-4417-d9bb-b892d23b73d7"
      },
      "source": [
        "class maxHeap:\n",
        "    def __init__(self):\n",
        "        self.x = [None]\n",
        "        \n",
        "    def _exchange(self, i, j):\n",
        "        if self.x[i] < self.x[j]:\n",
        "            self.x[i], self.x[j] = self.x[j], self.x[i]\n",
        "        \n",
        "    def push(self, item):\n",
        "        self.x.append(item)\n",
        "        cidx = len(self.x) - 1\n",
        "        pidx = cidx // 2\n",
        "        while pidx >= 1:\n",
        "            self._exchange(pidx, cidx)\n",
        "            cidx = pidx\n",
        "            pidx = cidx // 2\n",
        "            \n",
        "    def pop(self):\n",
        "        _tmp = self.x[1]\n",
        "        self.x[1], self.x[-1] = self.x[-1], self.x[1]\n",
        "        self.x = self.x[:-1]\n",
        "        self.heapify()\n",
        "        return _tmp\n",
        "    \n",
        "            \n",
        "    def _child(self, pidx):\n",
        "        n = len(self.x)\n",
        "        lcidx = pidx * 2\n",
        "        rcidx = pidx * 2 + 1\n",
        "        if rcidx < n:\n",
        "            return lcidx, rcidx\n",
        "        elif lcidx < n and rcidx >= n:\n",
        "            return lcidx, None\n",
        "        else:\n",
        "            return None, None\n",
        "            \n",
        "    def heapify(self):\n",
        "        for pidx in range(1, len(self.x)+1):\n",
        "            lcidx, rcidx = self._child(pidx)\n",
        "            if lcidx != None and rcidx != None:\n",
        "                if self.x[lcidx] < self.x[rcidx]:\n",
        "                    self._exchange(pidx, rcidx)\n",
        "                else:\n",
        "                    self._exchange(pidx, lcidx)\n",
        "            elif lcidx != None and rcidx == None:\n",
        "                self._exchange(pidx, lcidx)\n",
        "        return self.x\n",
        "    \n",
        "        \n",
        "    def print(self):\n",
        "        print(self.x)\n",
        "        \n",
        "        \n",
        "x = maxHeap()\n",
        "x.push(7)\n",
        "x.push(5)\n",
        "x.push(6)\n",
        "x.push(1)\n",
        "x.push(3)\n",
        "x.push(2)\n",
        "x.push(4)\n",
        "x.print()\n",
        "x.push(8)\n",
        "x.print()\n",
        "x.pop()\n",
        "x.print()\n",
        "x.pop()\n",
        "x.print()"
      ],
      "execution_count": 1,
      "outputs": [
        {
          "output_type": "stream",
          "text": [
            "[None, 7, 5, 6, 1, 3, 2, 4]\n",
            "[None, 8, 7, 6, 5, 3, 2, 4, 1]\n",
            "[None, 7, 5, 6, 1, 3, 2, 4]\n",
            "[None, 6, 5, 4, 1, 3, 2]\n"
          ],
          "name": "stdout"
        }
      ]
    },
    {
      "cell_type": "code",
      "metadata": {
        "id": "eYmUnz7XBiV_",
        "colab_type": "code",
        "colab": {
          "base_uri": "https://localhost:8080/",
          "height": 144
        },
        "outputId": "a767b855-567d-44d3-a261-df1e3257b4aa"
      },
      "source": [
        "h = maxHeap()\n",
        "x = [3,2,1,5,6,4,7]\n",
        "\n",
        "for val in x:\n",
        "    h.push(val)\n",
        "\n",
        "while len(h.x) > 1:\n",
        "    print(h.pop())"
      ],
      "execution_count": 2,
      "outputs": [
        {
          "output_type": "stream",
          "text": [
            "7\n",
            "6\n",
            "5\n",
            "4\n",
            "3\n",
            "2\n",
            "1\n"
          ],
          "name": "stdout"
        }
      ]
    }
  ]
}