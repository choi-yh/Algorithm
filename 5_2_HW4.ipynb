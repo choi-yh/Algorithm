{
  "nbformat": 4,
  "nbformat_minor": 0,
  "metadata": {
    "colab": {
      "name": "5-2 HW4.ipynb",
      "version": "0.3.2",
      "provenance": [],
      "collapsed_sections": [],
      "include_colab_link": true
    },
    "kernelspec": {
      "name": "python3",
      "display_name": "Python 3"
    }
  },
  "cells": [
    {
      "cell_type": "markdown",
      "metadata": {
        "id": "view-in-github",
        "colab_type": "text"
      },
      "source": [
        "<a href=\"https://colab.research.google.com/github/choi-yh/Algorithm/blob/master/5_2_HW4.ipynb\" target=\"_parent\"><img src=\"https://colab.research.google.com/assets/colab-badge.svg\" alt=\"Open In Colab\"/></a>"
      ]
    },
    {
      "cell_type": "markdown",
      "metadata": {
        "id": "sQwzLWvcj-Zm",
        "colab_type": "text"
      },
      "source": [
        "### id, password를 입력받아 로그인을 허락허거나 거부하는 GUI 시스템을 만들어 보세요"
      ]
    },
    {
      "cell_type": "markdown",
      "metadata": {
        "id": "yvO6LcG4ect6",
        "colab_type": "text"
      },
      "source": [
        "* id는 키이고 password는 value로 구성하는 딕셔너리를 만든다.\n",
        "* 딕셔나리의 value인 password는 sha256 알고리즘으로 암호화하여 저장한다.\n",
        "* 사용자가 id와 패스워드를 입력하면 이를 받아서 딕셔너리에서 찾고 없으면 user not found~, \n",
        "* 유저는 있는데 패스워드가 클리면 wrong password 라는 메세지를 출력한다."
      ]
    },
    {
      "cell_type": "code",
      "metadata": {
        "id": "7FvLlYdCeORy",
        "colab_type": "code",
        "colab": {}
      },
      "source": [
        "import csv\n",
        "import hashlib\n",
        "from tkinter import *\n",
        "\n",
        "# 데이터 파일 열기\n",
        "f = open(r'C:\\Users\\yhchoi\\Desktop\\코딩\\알고리즘\\id_pw.csv', 'r', encoding='utf-8')\n",
        "csvReader = csv.reader(f)\n",
        "\n",
        "# 데이터 파일에서 저장할 id와 pw\n",
        "id_list = [] \n",
        "pw_list = []\n",
        "for row in csvReader:\n",
        "    id_list.append(row[0])\n",
        "    pw_list.append(row[1].encode('utf-8'))\n",
        "f.close()\n",
        "\n",
        "# 패스워드는 sha256 으로 암호화 하여 다시 저장\n",
        "sha_pw_list = []\n",
        "for word in pw_list:\n",
        "    word = word\n",
        "    sha_pw_list.append(hashlib.sha256(word).hexdigest())\n",
        "# 딕셔너리로 만들기\n",
        "dic = {}\n",
        "for i in range(len(id_list)):\n",
        "    dic[id_list[i]] = sha_pw_list[i]\n",
        "\n",
        "# 왜 계속 pw 해쉬값이 바뀌는거 같지? - hexdigest() 메서드로 해\n",
        "\n",
        "def login():\n",
        "    #print(entryVar1.get(), entryVar2.get())\n",
        "\n",
        "    user_id = entryVar1.get()\n",
        "    user_pw = entryVar2.get().encode('utf-8')\n",
        "    sha_user_pw = hashlib.sha256(user_pw).hexdigest()\n",
        "    \n",
        "    if user_id in dic:\n",
        "        if dic[user_id] == sha_user_pw: # 입력받은 id에 해당하는 pw가 입력받은 pw의 해쉬값과 같다면\n",
        "            print('user found!')\n",
        "        else:\n",
        "            print('Wrong password')\n",
        "    else:\n",
        "        print('Wrong id')\n",
        "    return user_id, user_pw\n",
        "\n",
        "\n",
        "# login gui\n",
        "gui = Tk()\n",
        "gui.geometry(\"400x400\")\n",
        "# make sure first is capital and second is not\n",
        "gui.title(\"First title\")\n",
        "    \n",
        "a = Label(gui ,text=\"username\").grid(row=0,column=0)\n",
        "b = Label(gui, text=\"password\").grid(row=1,column=0)\n",
        "\n",
        "entryVar1 = StringVar(value=\"\")\n",
        "entryVar2 = StringVar(value=\"\")\n",
        "e = Entry(gui,textvariable=entryVar1).grid(row=0,column=1)\n",
        "f = Entry(gui, show=\"*\", textvariable=entryVar2).grid(row=1,column=1)\n",
        "\n",
        "c = Button(gui,text=\"LOGIN\", command = login).grid(row=2,column=0)\n",
        "gui.mainloop()\n"
      ],
      "execution_count": 0,
      "outputs": []
    }
  ]
}